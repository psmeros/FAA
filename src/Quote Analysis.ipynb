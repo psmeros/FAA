{
 "cells": [
  {
   "cell_type": "code",
   "execution_count": 1,
   "metadata": {},
   "outputs": [],
   "source": [
    "%matplotlib inline\n",
    "import numpy as np\n",
    "import pandas as pd\n",
    "import matplotlib.pyplot as plt\n",
    "import seaborn as sns\n",
    "from matplotlib.colors import ListedColormap\n",
    "%load_ext autoreload\n",
    "%autoreload 2\n",
    "\n",
    "from preparePlots import *"
   ]
  },
  {
   "cell_type": "code",
   "execution_count": 2,
   "metadata": {
    "scrolled": false
   },
   "outputs": [
    {
     "data": {
      "image/png": "[encoded data removed]",
      "text/plain": [
       "<matplotlib.figure.Figure at 0x7fb083099128>"
      ]
     },
     "metadata": {},
     "output_type": "display_data"
    }
   ],
   "source": [
    "def plotNumOfQuotes():\n",
    "    \n",
    "    #read df\n",
    "    df = plotNumOfQuotesDF()\n",
    "\n",
    "    #horizontal barplot\n",
    "    ax = df.plot.barh(stacked=True, figsize=(6, 6), colormap=ListedColormap(sns.color_palette(\"Set1\", n_colors=df.shape[1], desat=.5)))\n",
    "\n",
    "    #Labels\n",
    "    ax.set(ylabel=\"Topic of Article\", xlabel=\"Percentage of Quotes per Quotee type\")\n",
    "    ax.legend(ncol=1, frameon=True)\n",
    "    plt.legend(bbox_to_anchor=(1.03, 1), loc=2, borderaxespad=0.)\n",
    "    locs, labels = plt.xticks()\n",
    "    labels = [str(int(l*100))+'%' for l in locs]\n",
    "    plt.xticks(locs, labels)\n",
    "    plt.xlim(xmin = 0, xmax = 1)\n",
    "\n",
    "    #Depiction\n",
    "    plt.savefig('plots/CountQuotes.png', dpi=1200, bbox_inches = 'tight')\n",
    "    plt.show()\n",
    "plotNumOfQuotes()"
   ]
  },
  {
   "cell_type": "code",
   "execution_count": null,
   "metadata": {},
   "outputs": [],
   "source": [
    "def plotHeatMap():\n",
    "    \n",
    "    #Data manipulation\n",
    "    data = topics[['articleTopic', 'quoteTopic']].groupby(['articleTopic', 'quoteTopic']).size().reset_index(name='counts').pivot(index='articleTopic', columns='quoteTopic', values='counts').fillna(0)\n",
    "    #normalization\n",
    "    data = data.div(data.sum(axis=1), axis=0)\n",
    "    \n",
    "    #Aesthetics\n",
    "    sns.set(style=\"whitegrid\")\n",
    "    f, ax = plt.subplots(figsize=(8, 8))\n",
    "    sns.set_color_codes(\"pastel\")\n",
    "\n",
    "    #Plot\n",
    "    ax = sns.heatmap(data)\n",
    "\n",
    "    #Labels\n",
    "    ax.set(ylabel=\"Topic of Article\", xlabel=\"Topic of Quote\")\n",
    "    \n",
    "    #Depiction\n",
    "    plt.savefig('plots/TopicsHeatMap.png', dpi=1200, bbox_inches = 'tight')\n",
    "    plt.show()    \n",
    "plotHeatMap()"
   ]
  },
  {
   "cell_type": "code",
   "execution_count": null,
   "metadata": {},
   "outputs": [],
   "source": [
    "documents = documents.select('quotes').toPandas()"
   ]
  },
  {
   "cell_type": "code",
   "execution_count": null,
   "metadata": {},
   "outputs": [],
   "source": [
    "documents = documents['quotes'].apply(pd.Series).stack().reset_index(level=1, drop=True).apply(pd.Series)"
   ]
  },
  {
   "cell_type": "code",
   "execution_count": null,
   "metadata": {},
   "outputs": [],
   "source": [
    "def plotTopQuotees():\n",
    "    \n",
    "    #Data manipulation    \n",
    "    data = documents[documents['quoteeType'] == 'PERSON']['quotee'].value_counts().reset_index()\n",
    "    data.columns = ['quotee', 'count']\n",
    "    data = data.head(20)\n",
    "    data = data.drop(3) # dropping â\n",
    "\n",
    "    #Aesthetics\n",
    "    sns.set(style=\"whitegrid\")\n",
    "    f, ax = plt.subplots(figsize=(6, 6))\n",
    "\n",
    "    #Barplots\n",
    "    sns.set_color_codes(\"pastel\")\n",
    "    sns.barplot(x=\"count\", y=\"quotee\", data=data, ax=ax, label=\"total\", color='b')\n",
    "\n",
    "    #Labels\n",
    "    ax.set(ylabel=\"Quotee Name\", xlabel=\"Number of Quotes\")\n",
    "    sns.despine()\n",
    "    locs, labels = plt.xticks()\n",
    "    labels = [human_format(l) for l in locs]\n",
    "    plt.xticks(locs, labels)\n",
    "\n",
    "    #Depiction\n",
    "    plt.savefig('plots/TopQuotees.png', dpi=1200, bbox_inches = 'tight')\n",
    "    plt.show()\n",
    "plotTopQuotees()"
   ]
  },
  {
   "cell_type": "code",
   "execution_count": null,
   "metadata": {},
   "outputs": [],
   "source": [
    "def plotTopOrganizations():\n",
    "    \n",
    "    #Data manipulation    \n",
    "    data = documents[documents['quoteeType'] == 'ORG']['quoteeAffiliation'].value_counts().reset_index()\n",
    "    data.columns = ['organization', 'count']\n",
    "    data = data.head(20)\n",
    "    #data = data.drop(3) # dropping â\n",
    "\n",
    "    #Aesthetics\n",
    "    sns.set(style=\"whitegrid\")\n",
    "    f, ax = plt.subplots(figsize=(6, 6))\n",
    "\n",
    "    #Barplots\n",
    "    sns.set_color_codes(\"pastel\")\n",
    "    sns.barplot(x=\"count\", y=\"organization\", data=data, ax=ax, label=\"total\", color='b')\n",
    "\n",
    "    #Labels\n",
    "    ax.set(ylabel=\"Organization Name\", xlabel=\"Number of Quotes\")\n",
    "    sns.despine()\n",
    "    locs, labels = plt.xticks()\n",
    "    labels = [human_format(l) for l in locs]\n",
    "    plt.xticks(locs, labels)\n",
    "\n",
    "    #Depiction\n",
    "    plt.savefig('plots/TopOrganizations.png', dpi=1200, bbox_inches = 'tight')\n",
    "    plt.show()\n",
    "plotTopOrganizations()"
   ]
  },
  {
   "cell_type": "code",
   "execution_count": null,
   "metadata": {},
   "outputs": [],
   "source": []
  }
 ],
 "metadata": {
  "anaconda-cloud": {},
  "kernelspec": {
   "display_name": "Python 3",
   "language": "python",
   "name": "python3"
  },
  "language_info": {
   "codemirror_mode": {
    "name": "ipython",
    "version": 3
   },
   "file_extension": ".py",
   "mimetype": "text/x-python",
   "name": "python",
   "nbconvert_exporter": "python",
   "pygments_lexer": "ipython3",
   "version": "3.6.3"
  }
 },
 "nbformat": 4,
 "nbformat_minor": 1
}
