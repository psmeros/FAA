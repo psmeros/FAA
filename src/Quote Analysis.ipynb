{
 "cells": [
  {
   "cell_type": "code",
   "execution_count": null,
   "metadata": {},
   "outputs": [],
   "source": [
    "%matplotlib inline\n",
    "import numpy as np\n",
    "import pandas as pd\n",
    "import matplotlib.pyplot as plt\n",
    "import seaborn as sns\n",
    "from matplotlib.colors import ListedColormap\n",
    "%load_ext autoreload\n",
    "%autoreload 2\n",
    "\n",
    "from preparePlots import *\n",
    "from utils import human_format"
   ]
  },
  {
   "cell_type": "code",
   "execution_count": null,
   "metadata": {
    "scrolled": false
   },
   "outputs": [],
   "source": [
    "def plotNumOfQuotes():\n",
    "    \n",
    "    #read df\n",
    "    df = plotNumOfQuotesDF()\n",
    "\n",
    "    #horizontal barplot\n",
    "    ax = df.plot.barh(stacked=True, figsize=(12, 12), colormap=ListedColormap(sns.color_palette(\"Set1\", n_colors=df.shape[1], desat=.5)))\n",
    "\n",
    "    #Labels\n",
    "    ax.set(ylabel=\"Topic of Article\", xlabel=\"Percentage of Quotes per Quotee type\")\n",
    "    ax.legend(ncol=1, frameon=True)\n",
    "    plt.legend(bbox_to_anchor=(1.03, 1), loc=2, borderaxespad=0.)\n",
    "    locs, labels = plt.xticks()\n",
    "    labels = [str(int(l*100))+'%' for l in locs]\n",
    "    plt.xticks(locs, labels)\n",
    "    plt.xlim(xmin = 0, xmax = 1)\n",
    "\n",
    "    #Depiction\n",
    "    plt.savefig('plots/CountQuotes.png', bbox_inches = 'tight', transparent=True)\n",
    "    plt.show()\n",
    "plotNumOfQuotes()"
   ]
  },
  {
   "cell_type": "code",
   "execution_count": null,
   "metadata": {},
   "outputs": [],
   "source": [
    "def plotHeatMap():\n",
    "    \n",
    "    #read df\n",
    "    df = plotHeatMapDF()\n",
    "    \n",
    "    #Aesthetics\n",
    "    sns.set(style=\"whitegrid\")\n",
    "    f, ax = plt.subplots(figsize=(12, 12))\n",
    "    #sns.set_color_codes(\"deep\")\n",
    "\n",
    "    #Plot\n",
    "    ax = sns.heatmap(df, cmap=\"Blues\", vmax=0.5)\n",
    "\n",
    "    #Labels\n",
    "    ax.set(ylabel=\"Topic of Article\", xlabel=\"Topic of Quote\")\n",
    "    cbar = ax.collections[0].colorbar\n",
    "    cbar.set_ticks([l/100 for l in [0, 25, 50]])\n",
    "    cbar.set_ticklabels([str(l)+'%' for l in [0, 25]] + ['>50%'])\n",
    "    \n",
    "    #Depiction\n",
    "    plt.savefig('plots/TopicsHeatMap.png', bbox_inches = 'tight', transparent=True)\n",
    "    plt.show()    \n",
    "plotHeatMap()"
   ]
  },
  {
   "cell_type": "code",
   "execution_count": null,
   "metadata": {},
   "outputs": [],
   "source": [
    "def plotTopQuotees(n=20):\n",
    "    \n",
    "    #read df\n",
    "    df_p, df_o = plotTopQuoteesDF()\n",
    "    df_p = df_p.head(n)\n",
    "    df_o = df_o.head(n)\n",
    "\n",
    "    #Aesthetics\n",
    "    sns.set(style=\"whitegrid\")\n",
    "    f, ax = plt.subplots(figsize=(12, 12))\n",
    "\n",
    "    #Barplots\n",
    "    sns.set_color_codes(\"deep\")\n",
    "    sns.barplot(x=\"count\", y=\"quotee\", data=df_p, ax=ax, label=\"total\", color='r')\n",
    "\n",
    "    #Labels\n",
    "    ax.set(ylabel=\"Quotee Name\", xlabel=\"Number of Quotes\")\n",
    "    sns.despine()\n",
    "    locs, labels = plt.xticks()\n",
    "    labels = [human_format(l) for l in locs]\n",
    "    plt.xticks(locs, labels)\n",
    "\n",
    "    #Depiction\n",
    "    plt.savefig('plots/TopQuotees.png', bbox_inches = 'tight', transparent=True)\n",
    "    plt.show()\n",
    "     \n",
    "\n",
    "    #Aesthetics\n",
    "    sns.set(style=\"whitegrid\")\n",
    "    f, ax = plt.subplots(figsize=(12, 12))\n",
    "\n",
    "    #Barplots\n",
    "    sns.set_color_codes(\"deep\")\n",
    "    sns.barplot(x=\"count\", y=\"organization\", data=df_o, ax=ax, label=\"total\", color='r')\n",
    "\n",
    "    #Labels\n",
    "    ax.set(ylabel=\"Organization Name\", xlabel=\"Number of Quotes\")\n",
    "    sns.despine()\n",
    "    locs, labels = plt.xticks()\n",
    "    labels = [human_format(l) for l in locs]\n",
    "    plt.xticks(locs, labels)\n",
    "\n",
    "    #Depiction\n",
    "    plt.savefig('plots/TopOrganizations.png', bbox_inches = 'tight', transparent=True)\n",
    "    plt.show()\n",
    "    \n",
    "plotTopQuotees()"
   ]
  },
  {
   "cell_type": "code",
   "execution_count": null,
   "metadata": {},
   "outputs": [],
   "source": []
  }
 ],
 "metadata": {
  "anaconda-cloud": {},
  "kernelspec": {
   "display_name": "Python [default]",
   "language": "python",
   "name": "python3"
  },
  "language_info": {
   "codemirror_mode": {
    "name": "ipython",
    "version": 3
   },
   "file_extension": ".py",
   "mimetype": "text/x-python",
   "name": "python",
   "nbconvert_exporter": "python",
   "pygments_lexer": "ipython3",
   "version": "3.5.4"
  }
 },
 "nbformat": 4,
 "nbformat_minor": 1
}
