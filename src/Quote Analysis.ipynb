{
 "cells": [
  {
   "cell_type": "code",
   "execution_count": null,
   "metadata": {},
   "outputs": [],
   "source": [
    "%matplotlib inline\n",
    "import numpy as np\n",
    "import pandas as pd\n",
    "import matplotlib.pyplot as plt\n",
    "%load_ext autoreload\n",
    "%autoreload 2\n",
    "import seaborn as sns\n",
    "\n",
    "from settings import *\n",
    "from utils import *\n",
    "from quoteAnalysis import *"
   ]
  },
  {
   "cell_type": "code",
   "execution_count": null,
   "metadata": {},
   "outputs": [],
   "source": [
    "#Run the pipeline to prepare the dataframe for the plots\n",
    "documents = quotePipeline()"
   ]
  },
  {
   "cell_type": "code",
   "execution_count": null,
   "metadata": {},
   "outputs": [],
   "source": [
    "documents['quoteTopic'].value_counts()"
   ]
  },
  {
   "cell_type": "code",
   "execution_count": null,
   "metadata": {
    "scrolled": false
   },
   "outputs": [],
   "source": [
    "def plotNumOfQuotes():\n",
    "    \n",
    "    #Filter (aesthetic purposes)\n",
    "    countLimit = 0\n",
    "\n",
    "    #Data manipulation\n",
    "    total = pd.DataFrame(documents.groupby(['articleTopic']).size().sort_values().rename('count')).reset_index()\n",
    "    total = total[total['count'] > countLimit]\n",
    "    topics = total['articleTopic']\n",
    "    person = pd.DataFrame(documents.query(\"quoteeType=='PERSON' & articleTopic in @topics\").groupby(['articleTopic']).size().sort_values().rename('count')).reset_index()\n",
    "    personorg = pd.DataFrame(documents.query(\"quoteeType in ['PERSON', 'ORG'] & articleTopic in @topics\").groupby(['articleTopic']).size().sort_values().rename('count')).reset_index()\n",
    "\n",
    "    #Aesthetics\n",
    "    sns.set(style=\"whitegrid\")\n",
    "    f, ax = plt.subplots(figsize=(6, 6))\n",
    "\n",
    "    #Barplots\n",
    "    sns.set_color_codes(\"pastel\")\n",
    "    sns.barplot(x=\"count\", y=\"articleTopic\", data=total, ax=ax, label=\"total\", color='b')\n",
    "    sns.set_color_codes(\"muted\")\n",
    "    sns.barplot(x=\"count\", y=\"articleTopic\", data=personorg, ax=ax, label=\"organizations\", color='b')\n",
    "    sns.set_color_codes(\"dark\")\n",
    "    sns.barplot(x=\"count\", y=\"articleTopic\", data=person, ax=ax, label=\"persons\", color='b')\n",
    "\n",
    "    #Labels\n",
    "    ax.set(ylabel=\"Topic of Article\", xlabel=\"Number of Quotes\")\n",
    "    ax.legend(ncol=1, loc=\"upper right\", frameon=True)\n",
    "    sns.despine()\n",
    "    locs, labels = plt.xticks()\n",
    "    labels = [human_format(l) for l in locs]\n",
    "    plt.xticks(locs, labels)\n",
    "\n",
    "    #Depiction\n",
    "    plt.savefig('plots/CountQuotes.png', dpi=1200, bbox_inches = 'tight')\n",
    "    plt.show()\n",
    "plotNumOfQuotes()"
   ]
  },
  {
   "cell_type": "code",
   "execution_count": null,
   "metadata": {},
   "outputs": [],
   "source": [
    "def plotHeatMap():\n",
    "    \n",
    "    #Data manipulation\n",
    "    data = documents[documents['quoteSim']>0.6][['articleTopic', 'quoteTopic', 'quoteSim']].groupby(['articleTopic', 'quoteTopic']).count().reset_index().pivot(index='articleTopic', columns='quoteTopic', values='quoteSim').fillna(0)\n",
    "        \n",
    "    #Aesthetics\n",
    "    sns.set(style=\"whitegrid\")\n",
    "    f, ax = plt.subplots(figsize=(8, 8))\n",
    "    sns.set_color_codes(\"pastel\")\n",
    "\n",
    "    #Plot\n",
    "    ax = sns.heatmap(data)\n",
    "\n",
    "    #Labels\n",
    "    ax.set(ylabel=\"Topic of Article\", xlabel=\"Topic of Quote\")\n",
    "    \n",
    "    #Depiction\n",
    "    plt.savefig('plots/TopicsHeatMap.png', dpi=1200, bbox_inches = 'tight')\n",
    "    plt.show()    \n",
    "plotHeatMap()"
   ]
  },
  {
   "cell_type": "code",
   "execution_count": null,
   "metadata": {},
   "outputs": [],
   "source": [
    "def plotTopQuotees():\n",
    "    \n",
    "    #Data manipulation\n",
    "    data = documents[documents['quoteeType'] == 'PERSON'][['quoteeType', 'quotee']].groupby(['quotee']).count().rename(columns={'quoteeType': 'count'}).sort_values(by='count', ascending=False).reset_index()\n",
    "    data = data.head(15)\n",
    "    \n",
    "    #Aesthetics\n",
    "    sns.set(style=\"whitegrid\")\n",
    "    f, ax = plt.subplots(figsize=(6, 6))\n",
    "\n",
    "    #Barplots\n",
    "    sns.set_color_codes(\"pastel\")\n",
    "    sns.barplot(x=\"count\", y=\"quotee\", data=data, ax=ax, label=\"total\", color='b')\n",
    "\n",
    "    #Labels\n",
    "    ax.set(ylabel=\"Quotee Name\", xlabel=\"Number of Quotes\")\n",
    "    sns.despine()\n",
    "    locs, labels = plt.xticks()\n",
    "    labels = [human_format(l) for l in locs]\n",
    "    plt.xticks(locs, labels)\n",
    "\n",
    "    #Depiction\n",
    "    plt.savefig('plots/TopQuotees.png', dpi=1200, bbox_inches = 'tight')\n",
    "    plt.show()\n",
    "plotTopQuotees()"
   ]
  },
  {
   "cell_type": "code",
   "execution_count": null,
   "metadata": {},
   "outputs": [],
   "source": []
  }
 ],
 "metadata": {
  "anaconda-cloud": {},
  "kernelspec": {
   "display_name": "Python 3",
   "language": "python",
   "name": "python3"
  },
  "language_info": {
   "codemirror_mode": {
    "name": "ipython",
    "version": 3
   },
   "file_extension": ".py",
   "mimetype": "text/x-python",
   "name": "python",
   "nbconvert_exporter": "python",
   "pygments_lexer": "ipython3",
   "version": "3.6.3"
  }
 },
 "nbformat": 4,
 "nbformat_minor": 1
}
