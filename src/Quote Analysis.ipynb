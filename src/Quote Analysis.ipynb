{
 "cells": [
  {
   "cell_type": "code",
   "execution_count": null,
   "metadata": {},
   "outputs": [],
   "source": [
    "%matplotlib inline\n",
    "import numpy as np\n",
    "import pandas as pd\n",
    "import matplotlib.pyplot as plt\n",
    "%load_ext autoreload\n",
    "%autoreload 2\n",
    "import seaborn as sns\n",
    "\n",
    "from settings import *\n",
    "from utils import *\n",
    "from quoteExtraction import *\n",
    "\n",
    "if useSpark:\n",
    "    from pyspark.sql import SQLContext\n",
    "    from pyspark import SparkConf, SparkContext\n",
    "    ctx = SQLContext(SparkContext(conf = (SparkConf().setMaster('local[*]').setAppName('quoteExtraction').set('spark.executor.memory', '2G').set('spark.driver.memory', '40G').set('spark.driver.maxResultSize', '10G'))))"
   ]
  },
  {
   "cell_type": "code",
   "execution_count": null,
   "metadata": {
    "collapsed": true
   },
   "outputs": [],
   "source": [
    "def quoteExtraction(limitDocuments=10):\n",
    "    query = createQuery(limitDocuments, 'web')\n",
    "    documents = queryDB(query)        \n",
    "\n",
    "    if useSpark:\n",
    "        rddd = ctx.createDataFrame(documents[['title','body']]).rdd\n",
    "        documents['quotes'] = rddd.map(lambda s: dependencyGraphSearch(s.title, s.body)).collect()\n",
    "    else:\n",
    "        documents['quotes'] = documents.apply(lambda d: dependencyGraphSearch(d['title'],d['body']), axis=1)\n",
    "    \n",
    "    documents = documents[['topic_label']].join(documents['quotes'].apply(pd.Series).stack().reset_index(level=1, drop=True).apply(pd.Series))\n",
    "    \n",
    "    print ('#quotesPerDocument: ',len(documents)/limitDocuments)\n",
    "    return documents\n",
    "\n",
    "if useCache:\n",
    "    documents = pd.read_pickle(cachedDataFrame)\n",
    "else:\n",
    "    documents = quoteExtraction(20)\n",
    "    documents.to_pickle(cachedDataFrame)"
   ]
  },
  {
   "cell_type": "code",
   "execution_count": null,
   "metadata": {
    "scrolled": false
   },
   "outputs": [],
   "source": [
    "#Filter (aesthetic purposes)\n",
    "countLimit = 50000\n",
    "\n",
    "#Data manipulation\n",
    "total = pd.DataFrame(documents.groupby(['topic_label']).size().sort_values().rename('count')).reset_index()\n",
    "total = total[total['count'] > countLimit]\n",
    "topics = total['topic_label']\n",
    "person = pd.DataFrame(documents.query(\"quoteeType=='PERSON' & topic_label in @topics\").groupby(['topic_label']).size().sort_values().rename('count')).reset_index()\n",
    "personorg = pd.DataFrame(documents.query(\"quoteeType in ['PERSON', 'ORG'] & topic_label in @topics\").groupby(['topic_label']).size().sort_values().rename('count')).reset_index()\n",
    "\n",
    "#Aesthetics\n",
    "sns.set(style=\"whitegrid\")\n",
    "f, ax = plt.subplots(figsize=(6, 6))\n",
    "\n",
    "#Barplots\n",
    "sns.set_color_codes(\"pastel\")\n",
    "sns.barplot(x=\"count\", y=\"topic_label\", data=total, ax=ax, label=\"total\", color='b')\n",
    "sns.set_color_codes(\"muted\")\n",
    "sns.barplot(x=\"count\", y=\"topic_label\", data=personorg, ax=ax, label=\"organizations\", color='b')\n",
    "sns.set_color_codes(\"dark\")\n",
    "sns.barplot(x=\"count\", y=\"topic_label\", data=person, ax=ax, label=\"persons\", color='b')\n",
    "\n",
    "#Labels\n",
    "ax.set(ylabel=\"Topic of Article\", xlabel=\"Number of Quotes\")\n",
    "ax.legend(ncol=1, loc=\"upper right\", frameon=True)\n",
    "sns.despine()\n",
    "locs, labels = plt.xticks()\n",
    "labels = [human_format(l) for l in locs]\n",
    "plt.xticks(locs, labels)\n",
    "\n",
    "#Depiction\n",
    "plt.savefig('plots/CountQuotees.png', dpi=1200)\n",
    "plt.show()"
   ]
  },
  {
   "cell_type": "code",
   "execution_count": null,
   "metadata": {
    "collapsed": true
   },
   "outputs": [],
   "source": []
  }
 ],
 "metadata": {
  "anaconda-cloud": {},
  "kernelspec": {
   "display_name": "Python [conda root]",
   "language": "python",
   "name": "conda-root-py"
  },
  "language_info": {
   "codemirror_mode": {
    "name": "ipython",
    "version": 3
   },
   "file_extension": ".py",
   "mimetype": "text/x-python",
   "name": "python",
   "nbconvert_exporter": "python",
   "pygments_lexer": "ipython3",
   "version": "3.5.4"
  }
 },
 "nbformat": 4,
 "nbformat_minor": 1
}
