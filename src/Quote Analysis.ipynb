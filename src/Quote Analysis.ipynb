{
 "cells": [
  {
   "cell_type": "code",
   "execution_count": null,
   "metadata": {},
   "outputs": [],
   "source": [
    "%matplotlib inline\n",
    "import numpy as np\n",
    "import pandas as pd\n",
    "import matplotlib.pyplot as plt\n",
    "%load_ext autoreload\n",
    "%autoreload 2\n",
    "import seaborn as sns\n",
    "\n",
    "from settings import *\n",
    "from utils import *\n",
    "from quoteExtraction import *\n",
    "\n",
    "from pyspark.sql import SQLContext\n",
    "from pyspark import SparkConf, SparkContext\n",
    "if useSpark: ctx = SQLContext(SparkContext(conf = (SparkConf().setMaster('local[*]').setAppName('quoteExtraction').set('spark.executor.memory', '2G').set('spark.driver.memory', '40G').set('spark.driver.maxResultSize', '10G'))))"
   ]
  },
  {
   "cell_type": "code",
   "execution_count": null,
   "metadata": {},
   "outputs": [],
   "source": [
    "def quoteExtraction(limitDocuments=10):\n",
    "    query = createQuery(limitDocuments, 'web')\n",
    "    documents = queryDB(query)        \n",
    "\n",
    "    #concatenation of title and body\n",
    "    documents['article'] = documents['title'] + '.\\n ' + documents['body']\n",
    "    documents = documents.drop(['title', 'body'], axis=1)\n",
    "\n",
    "    #process articles to extract quotes\n",
    "    if useSpark:\n",
    "        rddd = ctx.createDataFrame(documents[['article']]).rdd\n",
    "        documents['quotes'] = rddd.map(lambda s: dependencyGraphSearch(s.article)).collect()\n",
    "    else:\n",
    "        documents['quotes'] = documents['article'].map(dependencyGraphSearch)\n",
    "    documents = documents[['topic_label']].join(documents['quotes'].apply(pd.Series).stack().reset_index(level=1, drop=True).apply(pd.Series))\n",
    "    \n",
    "    #statistics\n",
    "    print('None Values:')\n",
    "    print(documents.isnull().sum())\n",
    "    documents = documents.dropna() #TODO\n",
    "    print('Total number of quotes:',human_format(documents.shape[0]))\n",
    "    print ('Average number of quotes per Document:',len(documents)/limitDocuments)\n",
    "    print('Total number of topics:', len(documents.topic_label.unique()))\n",
    "\n",
    "    #discover the topic of each quote\n",
    "    topics = documents.topic_label.unique()\n",
    "    tEmbeddings = topics2Vec(topics)\n",
    "    documents['quoteTopic'], documents['sim'] = zip(*documents['quote'].map(lambda x: findQuoteTopic(x, tEmbeddings)))\n",
    "    \n",
    "    return documents\n",
    "\n",
    "if useCache:\n",
    "    documents = pd.read_pickle(cachedDataFrame)\n",
    "else:\n",
    "    documents = quoteExtraction(limitDocuments)\n",
    "    documents.to_pickle(cachedDataFrame)"
   ]
  },
  {
   "cell_type": "code",
   "execution_count": null,
   "metadata": {
    "scrolled": false
   },
   "outputs": [],
   "source": [
    "def plotNumOfQuotes():\n",
    "    \n",
    "    #Filter (aesthetic purposes)\n",
    "    countLimit = 50000\n",
    "\n",
    "    #Data manipulation\n",
    "    total = pd.DataFrame(documents.groupby(['topic_label']).size().sort_values().rename('count')).reset_index()\n",
    "    total = total[total['count'] > countLimit]\n",
    "    topics = total['topic_label']\n",
    "    person = pd.DataFrame(documents.query(\"quoteeType=='PERSON' & topic_label in @topics\").groupby(['topic_label']).size().sort_values().rename('count')).reset_index()\n",
    "    personorg = pd.DataFrame(documents.query(\"quoteeType in ['PERSON', 'ORG'] & topic_label in @topics\").groupby(['topic_label']).size().sort_values().rename('count')).reset_index()\n",
    "\n",
    "    #Aesthetics\n",
    "    sns.set(style=\"whitegrid\")\n",
    "    f, ax = plt.subplots(figsize=(6, 6))\n",
    "\n",
    "    #Barplots\n",
    "    sns.set_color_codes(\"pastel\")\n",
    "    sns.barplot(x=\"count\", y=\"topic_label\", data=total, ax=ax, label=\"total\", color='b')\n",
    "    sns.set_color_codes(\"muted\")\n",
    "    sns.barplot(x=\"count\", y=\"topic_label\", data=personorg, ax=ax, label=\"organizations\", color='b')\n",
    "    sns.set_color_codes(\"dark\")\n",
    "    sns.barplot(x=\"count\", y=\"topic_label\", data=person, ax=ax, label=\"persons\", color='b')\n",
    "\n",
    "    #Labels\n",
    "    ax.set(ylabel=\"Topic of Article\", xlabel=\"Number of Quotes\")\n",
    "    ax.legend(ncol=1, loc=\"upper right\", frameon=True)\n",
    "    sns.despine()\n",
    "    locs, labels = plt.xticks()\n",
    "    labels = [human_format(l) for l in locs]\n",
    "    plt.xticks(locs, labels)\n",
    "\n",
    "    #Depiction\n",
    "    plt.savefig('plots/CountQuotees.png', dpi=1200, bbox_inches = 'tight')\n",
    "    plt.show()\n",
    "#plotNumOfQuotes()"
   ]
  },
  {
   "cell_type": "code",
   "execution_count": null,
   "metadata": {},
   "outputs": [],
   "source": [
    "def plotHeatMap():\n",
    "    sns.heatmap(documents[['topic_label', 'quoteTopic', 'sim']].groupby(['topic_label', 'quoteTopic']).count().reset_index().pivot(index='topic_label', columns='quoteTopic', values='sim').fillna(0))\n",
    "#plotHeatMap()"
   ]
  },
  {
   "cell_type": "code",
   "execution_count": null,
   "metadata": {
    "collapsed": true
   },
   "outputs": [],
   "source": []
  }
 ],
 "metadata": {
  "anaconda-cloud": {},
  "kernelspec": {
   "display_name": "Python [conda root]",
   "language": "python",
   "name": "conda-root-py"
  },
  "language_info": {
   "codemirror_mode": {
    "name": "ipython",
    "version": 3
   },
   "file_extension": ".py",
   "mimetype": "text/x-python",
   "name": "python",
   "nbconvert_exporter": "python",
   "pygments_lexer": "ipython3",
   "version": "3.5.4"
  }
 },
 "nbformat": 4,
 "nbformat_minor": 1
}
