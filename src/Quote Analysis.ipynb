{
 "cells": [
  {
   "cell_type": "code",
   "execution_count": null,
   "metadata": {},
   "outputs": [],
   "source": [
    "%matplotlib inline\n",
    "import numpy as np\n",
    "import pandas as pd\n",
    "import matplotlib.pyplot as plt\n",
    "%load_ext autoreload\n",
    "%autoreload 2\n",
    "import seaborn as sns\n",
    "\n",
    "from settings import *\n",
    "from utils import *\n",
    "from quoteAnalysis import *"
   ]
  },
  {
   "cell_type": "code",
   "execution_count": null,
   "metadata": {},
   "outputs": [],
   "source": [
    "#Run the pipeline to prepare the dataframe for the plots\n",
    "documents, topics = quotePipeline()"
   ]
  },
  {
   "cell_type": "code",
   "execution_count": null,
   "metadata": {},
   "outputs": [],
   "source": [
    "topics = topics.toPandas()"
   ]
  },
  {
   "cell_type": "code",
   "execution_count": null,
   "metadata": {
    "scrolled": false
   },
   "outputs": [],
   "source": [
    "def plotNumOfQuotes():\n",
    "    \n",
    "    #Filter (aesthetic purposes)\n",
    "    countLimit = 0\n",
    "\n",
    "    #Data manipulation\n",
    "    total = pd.DataFrame(topics.groupby(['articleTopic']).size().sort_values().rename('count')).reset_index()\n",
    "    total = total[total['count'] > countLimit]\n",
    "    t = total['articleTopic']\n",
    "    person = pd.DataFrame(topics.query(\"quoteeType == 'PERSON' & articleTopic in @t\").groupby(['articleTopic']).size().sort_values().rename('count')).reset_index()\n",
    "    personorg = pd.DataFrame(topics.query(\"quoteeType in ['PERSON', 'ORG'] & articleTopic in @t\").groupby(['articleTopic']).size().sort_values().rename('count')).reset_index()\n",
    "    personorgauth = pd.DataFrame(topics.query(\"(quotee == 'authority' | quoteeType in ['PERSON', 'ORG']) & articleTopic in @t\").groupby(['articleTopic']).size().sort_values().rename('count')).reset_index()\n",
    "    \n",
    "    #Aesthetics\n",
    "    sns.set(style=\"whitegrid\")\n",
    "    f, ax = plt.subplots(figsize=(6, 6))\n",
    "    colors = sns.color_palette(\"Blues\",  n_colors=4)\n",
    "\n",
    "    #Barplots\n",
    "    sns.barplot(x=\"count\", y=\"articleTopic\", data=total, ax=ax, label=\"total\", color=colors[0])\n",
    "    sns.barplot(x=\"count\", y=\"articleTopic\", data=personorgauth, ax=ax, label=\"authority\", color=colors[1])\n",
    "    sns.barplot(x=\"count\", y=\"articleTopic\", data=personorg, ax=ax, label=\"organizations\", color=colors[2])\n",
    "    sns.barplot(x=\"count\", y=\"articleTopic\", data=person, ax=ax, label=\"persons\", color=colors[3])\n",
    "\n",
    "    #Labels\n",
    "    ax.set(ylabel=\"Topic of Article\", xlabel=\"Number of Quotes\")\n",
    "    ax.legend(ncol=1, loc=\"upper right\", frameon=True)\n",
    "    sns.despine()\n",
    "    locs, labels = plt.xticks()\n",
    "    labels = [human_format(l) for l in locs]\n",
    "    plt.xticks(locs, labels)\n",
    "\n",
    "    #Depiction\n",
    "    plt.savefig('plots/CountQuotes.png', dpi=1200, bbox_inches = 'tight')\n",
    "    plt.show()\n",
    "plotNumOfQuotes()"
   ]
  },
  {
   "cell_type": "code",
   "execution_count": null,
   "metadata": {},
   "outputs": [],
   "source": [
    "def plotHeatMap():\n",
    "    \n",
    "    #Data manipulation\n",
    "    data = topics[topics['quoteSim']>0.1][['articleTopic', 'quoteTopic']].groupby(['articleTopic', 'quoteTopic']).size().reset_index(name='counts').pivot(index='articleTopic', columns='quoteTopic', values='counts').fillna(0)\n",
    "    #normalization\n",
    "    data = data.div(data.sum(axis=1), axis=0)\n",
    "    \n",
    "    #Aesthetics\n",
    "    sns.set(style=\"whitegrid\")\n",
    "    f, ax = plt.subplots(figsize=(8, 8))\n",
    "    sns.set_color_codes(\"pastel\")\n",
    "\n",
    "    #Plot\n",
    "    ax = sns.heatmap(data)\n",
    "\n",
    "    #Labels\n",
    "    ax.set(ylabel=\"Topic of Article\", xlabel=\"Topic of Quote\")\n",
    "    \n",
    "    #Depiction\n",
    "    plt.savefig('plots/TopicsHeatMap.png', dpi=1200, bbox_inches = 'tight')\n",
    "    plt.show()    \n",
    "plotHeatMap()"
   ]
  },
  {
   "cell_type": "code",
   "execution_count": null,
   "metadata": {},
   "outputs": [],
   "source": [
    "documents = documents.select('quotes').toPandas()"
   ]
  },
  {
   "cell_type": "code",
   "execution_count": null,
   "metadata": {},
   "outputs": [],
   "source": [
    "documents = documents['quotes'].apply(pd.Series).stack().reset_index(level=1, drop=True).apply(pd.Series)"
   ]
  },
  {
   "cell_type": "code",
   "execution_count": null,
   "metadata": {},
   "outputs": [],
   "source": [
    "def plotTopQuotees():\n",
    "    \n",
    "    #Data manipulation    \n",
    "    data = documents[documents['quoteeType'] == 'PERSON']['quotee'].value_counts().reset_index()\n",
    "    data.columns = ['quotee', 'count']\n",
    "    data = data.head(20)\n",
    "    data = data.drop(3) # dropping â\n",
    "\n",
    "    #Aesthetics\n",
    "    sns.set(style=\"whitegrid\")\n",
    "    f, ax = plt.subplots(figsize=(6, 6))\n",
    "\n",
    "    #Barplots\n",
    "    sns.set_color_codes(\"pastel\")\n",
    "    sns.barplot(x=\"count\", y=\"quotee\", data=data, ax=ax, label=\"total\", color='b')\n",
    "\n",
    "    #Labels\n",
    "    ax.set(ylabel=\"Quotee Name\", xlabel=\"Number of Quotes\")\n",
    "    sns.despine()\n",
    "    locs, labels = plt.xticks()\n",
    "    labels = [human_format(l) for l in locs]\n",
    "    plt.xticks(locs, labels)\n",
    "\n",
    "    #Depiction\n",
    "    plt.savefig('plots/TopQuotees.png', dpi=1200, bbox_inches = 'tight')\n",
    "    plt.show()\n",
    "plotTopQuotees()"
   ]
  },
  {
   "cell_type": "code",
   "execution_count": null,
   "metadata": {},
   "outputs": [],
   "source": [
    "def plotTopOrganizations():\n",
    "    \n",
    "    #Data manipulation    \n",
    "    data = documents[documents['quoteeType'] == 'ORG']['quoteeAffiliation'].value_counts().reset_index()\n",
    "    data.columns = ['organization', 'count']\n",
    "    data = data.head(20)\n",
    "    #data = data.drop(3) # dropping â\n",
    "\n",
    "    #Aesthetics\n",
    "    sns.set(style=\"whitegrid\")\n",
    "    f, ax = plt.subplots(figsize=(6, 6))\n",
    "\n",
    "    #Barplots\n",
    "    sns.set_color_codes(\"pastel\")\n",
    "    sns.barplot(x=\"count\", y=\"organization\", data=data, ax=ax, label=\"total\", color='b')\n",
    "\n",
    "    #Labels\n",
    "    ax.set(ylabel=\"Organization Name\", xlabel=\"Number of Quotes\")\n",
    "    sns.despine()\n",
    "    locs, labels = plt.xticks()\n",
    "    labels = [human_format(l) for l in locs]\n",
    "    plt.xticks(locs, labels)\n",
    "\n",
    "    #Depiction\n",
    "    plt.savefig('plots/TopOrganizations.png', dpi=1200, bbox_inches = 'tight')\n",
    "    plt.show()\n",
    "plotTopOrganizations()"
   ]
  },
  {
   "cell_type": "code",
   "execution_count": null,
   "metadata": {},
   "outputs": [],
   "source": []
  }
 ],
 "metadata": {
  "anaconda-cloud": {},
  "kernelspec": {
   "display_name": "Python 3",
   "language": "python",
   "name": "python3"
  },
  "language_info": {
   "codemirror_mode": {
    "name": "ipython",
    "version": 3
   },
   "file_extension": ".py",
   "mimetype": "text/x-python",
   "name": "python",
   "nbconvert_exporter": "python",
   "pygments_lexer": "ipython3",
   "version": "3.6.3"
  }
 },
 "nbformat": 4,
 "nbformat_minor": 1
}
