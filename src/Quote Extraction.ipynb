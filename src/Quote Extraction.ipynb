{
 "cells": [
  {
   "cell_type": "code",
   "execution_count": 1,
   "metadata": {
    "collapsed": true
   },
   "outputs": [],
   "source": [
    "%matplotlib inline\n",
    "import numpy as np\n",
    "import pandas as pd\n",
    "import matplotlib.pyplot as plt\n",
    "%load_ext autoreload\n",
    "%autoreload 2\n",
    "\n",
    "from pyspark.sql import SQLContext\n",
    "from pyspark import SparkConf, SparkContext\n",
    "ctx = SQLContext(SparkContext(conf = (SparkConf().setMaster('local[*]').setAppName('quoteExtraction'))))"
   ]
  },
  {
   "cell_type": "code",
   "execution_count": 2,
   "metadata": {},
   "outputs": [],
   "source": [
    "from settings import *\n",
    "from utils import *\n",
    "from quoteExtraction import *"
   ]
  },
  {
   "cell_type": "code",
   "execution_count": 3,
   "metadata": {},
   "outputs": [
    {
     "name": "stdout",
     "output_type": "stream",
     "text": [
      "#quotesPerDocument:  5.8\n"
     ]
    }
   ],
   "source": [
    "def quoteExtraction(limitDocuments=10):\n",
    "    query = createQuery(limitDocuments, 'web')\n",
    "    documents = queryDB(query)        \n",
    "\n",
    "    if useSpark:\n",
    "        rddd = ctx.createDataFrame(documents[['title','body']]).rdd\n",
    "        documents['quotes'] = rddd.map(lambda s: dependencyGraphSearch(s.title, s.body)).collect()\n",
    "    else:\n",
    "        documents['quotes'] = documents.apply(lambda d: dependencyGraphSearch(d['title'],d['body']), axis=1)\n",
    "    \n",
    "    documents = documents[['topic_label']].join(documents['quotes'].apply(pd.Series).stack().reset_index(level=1, drop=True).apply(pd.Series))\n",
    "    \n",
    "    print ('#quotesPerDocument: ',len(documents)/limitDocuments)\n",
    "    return documents\n",
    "\n",
    "if useCache:\n",
    "    documents = pd.read_pickle(cachedDataFrame)\n",
    "else:\n",
    "    documents = quoteExtraction(20)\n",
    "    documents.to_pickle(cachedDataFrame)"
   ]
  },
  {
   "cell_type": "code",
   "execution_count": 4,
   "metadata": {
    "scrolled": true
   },
   "outputs": [
    {
     "data": {
      "text/plain": [
       "topic_label\n",
       "Addiction                               3\n",
       "Bacteria, Disease                       8\n",
       "Consumer, Demand, Supply                4\n",
       "Farm, Agriculture, Farmer              11\n",
       "Fresh Food, Real Food, Healthy Food     1\n",
       "Junk Food, Unhealthy Food              11\n",
       "Law, Label, Labeling, GMO              15\n",
       "Obesity, Fat, Weight                   18\n",
       "Research, Advancement, Progress         8\n",
       "Salt, Sugar, Fat, Recommendation       14\n",
       "Sugar, Diabetes                        10\n",
       "Water Shortage                         13\n",
       "dtype: int64"
      ]
     },
     "execution_count": 4,
     "metadata": {},
     "output_type": "execute_result"
    }
   ],
   "source": [
    "documents[['topic_label', 'quotee']].groupby('topic_label').size()"
   ]
  },
  {
   "cell_type": "code",
   "execution_count": null,
   "metadata": {
    "collapsed": true
   },
   "outputs": [],
   "source": []
  }
 ],
 "metadata": {
  "anaconda-cloud": {},
  "kernelspec": {
   "display_name": "Python [conda root]",
   "language": "python",
   "name": "conda-root-py"
  },
  "language_info": {
   "codemirror_mode": {
    "name": "ipython",
    "version": 3
   },
   "file_extension": ".py",
   "mimetype": "text/x-python",
   "name": "python",
   "nbconvert_exporter": "python",
   "pygments_lexer": "ipython3",
   "version": "3.5.4"
  }
 },
 "nbformat": 4,
 "nbformat_minor": 1
}
