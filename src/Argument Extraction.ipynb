{
 "cells": [
  {
   "cell_type": "code",
   "execution_count": 1,
   "metadata": {},
   "outputs": [],
   "source": [
    "%matplotlib inline\n",
    "import numpy as np\n",
    "import pandas as pd\n",
    "import matplotlib.pyplot as plt\n",
    "%load_ext autoreload\n",
    "%autoreload 2\n",
    "\n",
    "from sklearn.metrics.pairwise import cosine_similarity\n",
    "import spacy\n",
    "nlp = spacy.load('en')\n",
    "from spacy.symbols import nsubj"
   ]
  },
  {
   "cell_type": "code",
   "execution_count": 2,
   "metadata": {
    "collapsed": true
   },
   "outputs": [],
   "source": [
    "from settings import *\n",
    "from utils import *"
   ]
  },
  {
   "cell_type": "markdown",
   "metadata": {},
   "source": [
    "### Loads GloVe Embeddings"
   ]
  },
  {
   "cell_type": "code",
   "execution_count": 3,
   "metadata": {},
   "outputs": [],
   "source": [
    "from gloveEmbeddings import *\n",
    "loadGloveEmbeddings(gloveFile)"
   ]
  },
  {
   "cell_type": "markdown",
   "metadata": {},
   "source": [
    "### Creates Keyword Vectors"
   ]
  },
  {
   "cell_type": "code",
   "execution_count": 4,
   "metadata": {},
   "outputs": [],
   "source": [
    "def keywordVectors():\n",
    "    source = ['paper', 'report', 'study', 'analysis', 'research', 'survey']\n",
    "    people = ['expert', 'scientist']\n",
    "    subject = source + people\n",
    "    predicate = ['prove', 'demonstrate', 'reveal', 'state', 'mention', 'report', 'say', 'show', 'announce', 'claim', 'suggest']\n",
    "    \n",
    "    subjectVec =[word2vec(s) for s in subject]\n",
    "    predicateVec = [word2vec(p) for p in predicate]\n",
    "    \n",
    "    return subjectVec, predicateVec"
   ]
  },
  {
   "cell_type": "markdown",
   "metadata": {},
   "source": [
    "### Searches (on the vector space) for sentences containing the given subject and predicate keywords."
   ]
  },
  {
   "cell_type": "code",
   "execution_count": 5,
   "metadata": {
    "collapsed": true
   },
   "outputs": [],
   "source": [
    "def keywordSearch(title, body, subjectVec, predicateVec):\n",
    "    subjectThreshold = 0.9\n",
    "    predicateThreshold = 0.9\n",
    "\n",
    "    claims = []\n",
    "    for s in sent_tokenize(body):\n",
    "        subjectFound = predicateFound = False\n",
    "        claim = \"\"\n",
    "        for w in wordpunct_tokenize(s):\n",
    "\n",
    "            if predicateFound == True:\n",
    "                claim = s\n",
    "                claims.append(claim)\n",
    "                break\n",
    "\n",
    "            wVec = word2vec(w)\n",
    "\n",
    "            if subjectFound == False:\n",
    "                for sVec in subjectVec:\n",
    "                    if abs(cosine_similarity(sVec.reshape(1, -1), wVec.reshape(1, -1))) > subjectThreshold:\n",
    "                        subjectFound = True\n",
    "                        break\n",
    "\n",
    "            if subjectFound == True:\n",
    "                for pVec in predicateVec:\n",
    "                    if abs(cosine_similarity(pVec.reshape(1, -1), wVec.reshape(1, -1))) > predicateThreshold:\n",
    "                        predicateFound = True\n",
    "                        break\n",
    "    return claims\n"
   ]
  },
  {
   "cell_type": "code",
   "execution_count": 6,
   "metadata": {},
   "outputs": [
    {
     "data": {
      "text/plain": [
       "0                                                                                                                                                                                                                                                                                                                                             [Three studies show the benefits of healthier school meals.]\n",
       "1                                                                                                                                                                                                                                                                                                                                  [Many studies show that calorie intake is higher when people dine out.]\n",
       "2                                                                                                                                                                                                                           [The findings, published in the June 24 online issue of Nature Neuroscience, suggest that an increased interest in food leads to a decreased interest in novelty and cocaine.]\n",
       "3                                                                                                                                                                                                                                             [Generally speaking, people believe that either genetics--if your mom or dad was obese, then you're likely to be as well--or personal choices are to blame.]\n",
       "4                                                                                                                                                                                                                                                                                                                                                                                                       []\n",
       "5                                                                                                                                                                                                                                                                 [Some water experts say the single most important thing that Australia did was to create a new way of allocating that irrigation water.]\n",
       "6                                                                                                                                                                                                                                                        [Surveys conducted over the past three decades show farmers consistently support the idea of controlling erosion in return for taxpayer support.]\n",
       "7                                                                                                                                                                                                                        [Abundant research shows milk does not improve bone health and is the biggest source of saturated (“bad”) fat in the diet—the very fat that Dietary Guidelines push us to avoid.]\n",
       "8                                                                                                                                                                                                   [They show that people in traditional foraging societies do indeed participate in more physical activity, but that their total energy output is almost identical to that of today’s pudgy Westerners.]\n",
       "9                                                                                                                                                                                                                                                                                                     [But scientists say there are far filthier places in our house, some of them where we least expect.]\n",
       "10                                                                                                                                                                                                                                                                                                                                                                                                      []\n",
       "11                                                                                                                                                                                                                                                                                                                                                                                                      []\n",
       "12                                                                                                                                                                                                                                                                                                             [Appendix table 1 shows the risk estimates for other categories of spicy food consumption.]\n",
       "13                                                                                                                                          [A third study reports that hundreds of performance claims made on websites about sports products, including nutritional supplements and training equipment as well as drinks, are largely based on questionable data, and sometimes no apparent data at all.]\n",
       "14                                                                                                                                                                                                                                                                                                              [It may also hide in grass seeds planted as cover for conservation programs, experts say.]\n",
       "15                                                                                                                                                                                                                                                                                                                                                                                                      []\n",
       "16                                                                                                                                                                                                                                                                                                                       [Critics say what people really need in a crisis is money to buy their own food.]\n",
       "17                                                                                                                                                                                                                                                                                                               [Some studies show that protected bike lanes enhance retail sales and real state values.]\n",
       "18                                                                                                                                                                                                                                                                          [The Drought Monitor from NOAA shows some anticipated drought abatement this summer for the Central Plains and Eastern Texas.]\n",
       "19                                                                                                                                                                                                                                                             [A little research shows that one specialty is kebabs, so now I’m going to try to find a Cameroonian joint so I can become a food-hipster.]\n",
       "20                                                                                                                                                                                                                                                                                                                                                                                                      []\n",
       "21                                                                                                                                                                                                                                                                                                                                                                                                      []\n",
       "22    [(Photo by Connecticut State Police via Getty Images)\\n\\nNEWTOWN, CT - UNSPECIFED DATE: In this handout crime scene evidence photo provided by the Connecticut State Police, shows firearms and ammunition found on or in close proximity to shooters body at Sandy Hook Elementary School following the December 14, 2012 shooting rampage, taken on an unspecified date in Newtown, Connecticut .]\n",
       "23                                                                                                                                                                                                                                                                                              [Studies suggest that turning off Myc causes cancer cells to self-destruct in a process called apoptosis.]\n",
       "24                                                                                                                                                                                                                                                                                                                                                                                                      []\n",
       "25                                                                                                                                                                                                                                                                                                                                                                                                      []\n",
       "26                                                                                                                                                                                                                                                                              [Scientists who've studied cover crops in many places say that they typically reduce nitrate releases by about one third.]\n",
       "27                                                                                                                                                                                                                                                                                                                                                                                                      []\n",
       "28                                                                                                                                                                                                                                                                                                                                                                                                      []\n",
       "29                                                                                                                                                                                                                                                                                                                                                                                                      []\n",
       "                                                                                                                                                                                                      ...                                                                                                                                                                                                 \n",
       "70                                                                                                                                                                                                                                                                                                                                                                                                      []\n",
       "71                                                                                                                                                                                                      [In addition, it claims that scientific evidence is inconclusive about whether food taxes are effective in changing consumer behaviour and whether they have an impact on reducing obesity rates.]\n",
       "72                                                                                                                                                                                                                                                                                                                                                                                                      []\n",
       "73                                                                                                                                                                                                     [In fact, the report claims that one proposed soda tax in Philadelphia could have raised $77 million a year for the city, with $20 million specifically earmarked for obesity prevention programs.]\n",
       "74                                                                                                                                                                                                                                               [Fast Food Customers Eat More Than They Realize\\n\\nPeople who eat at fast food restaurants consume more calories than they know, HealthDay News reports.]\n",
       "75                                                                                                                                                                                                                                                                                                                                                                                                      []\n",
       "76                                                                                                                                                                                                                                                                                                                                                                                                      []\n",
       "77                                                                                                                                                                                                                                                                                                                                                                                                      []\n",
       "78                                                                                                                                                                                                                                                                                                                                                                                                      []\n",
       "79                                                                                                                                                                                                                                                                                                                                                                                                      []\n",
       "80                                                                                                                                                                                                                                                             [FILE - In this March 8, 2010 file photo, the sandwich board at the Panera store in Brookline, Mass shows the calorie count for each item.]\n",
       "81                                                                                                                                                                                                          [Greek scientists suggest that drinking their native coffee boiled could result in better cardiovascular health and help explain the long lives enjoyed by residents on the island of Ikaria.]\n",
       "82                                                                                                                                                                                                                                             [In fact, schools that adopted the changes earlier report that participation increased as students and parents became accustomed to the healthier options.]\n",
       "83                                                                                                                                                                                                                                                                                                                                                                                                      []\n",
       "84                                                                                                                                                                                                                                                                                                                                                                                                      []\n",
       "85                                                                                                                                                                                                                                                                                                                                                                                                      []\n",
       "86                                                                                                                                                                                                                 [With Hispanics making up more than a quarter of the U.S. population today -- and growing fast -- experts say this change is dramatically flavouring the American culinary experience.]\n",
       "87                                                                                                                                                                                                                                                                                                                                                                                                      []\n",
       "88                                                                                                                                                                                                                                                                                                                                               [“People will always say that these cases are frivolous.]\n",
       "89                                                                                                                                                                                                                                                      [Food and chemical companies say the wording would suggest something is wrong with gene modified ingredients that the companies believe are safe.]\n",
       "90                                                 [“This study shows that the revisions were successful and necessary, given excessive consumption of saturated fat and calories in vulnerable populations.”\\n\\nAndreyeva told the Inside Track in September that the WIC revisions are a win-win, as recipients are purchasing healthier products and the government didn’t spend any additional money.]\n",
       "91                                                                                                                                                                                                                                                                                                                                                                                                      []\n",
       "92                                                                                                                                                                                                                                                                                                                  [Charging extra for sugary drinks decreases the amount people buy, a new study shows.]\n",
       "93                                                                                                                                                                                                                                                                                                                                                                                                      []\n",
       "94                                                                                                                                                                                                                                                                                                                                                                                                      []\n",
       "95                                                                                                                                                                                                                                                                                                                                                                                                      []\n",
       "96                                                                                                                                                                                                                                                                                                                                                                                                      []\n",
       "97                                                                                                                                                                                                                                                                                                                                                                                                      []\n",
       "98                                                                                                                                                                                                                                                                     [The researchers suggest these instinctive patterns can be relearned with the help of technology, like their bra and matching app.]\n",
       "99                                                                                                                                                                                                                                                                                                                                                                                                      []\n",
       "Length: 100, dtype: object"
      ]
     },
     "execution_count": 6,
     "metadata": {},
     "output_type": "execute_result"
    }
   ],
   "source": [
    "def claimExtraction(limitDocuments=10):\n",
    "    query = createQuery(limitDocuments, 'web')\n",
    "    documents = queryDB(query)\n",
    "\n",
    "    subjectVec, predicateVec = keywordVectors()\n",
    "    \n",
    "    \n",
    "    \n",
    "    def dependencyGraphSearch(title, body, subjectVec, predicateVec):\n",
    "        \n",
    "        claims = []\n",
    "        for s in sent_tokenize(body):\n",
    "            subjectFound = predicateFound = False\n",
    "            claim = \"\"\n",
    "            holder = \"\"\n",
    "            \n",
    "            try:\n",
    "                doc = nlp(s)\n",
    "                rootVerb = [w for w in doc if w.head is w][0]\n",
    "            except:\n",
    "                continue\n",
    "            \n",
    "            wVec = word2vec(str(rootVerb))\n",
    "            for pVec in predicateVec:\n",
    "                if abs(cosine_similarity(pVec.reshape(1, -1), wVec.reshape(1, -1))) > 0.9:\n",
    "                    predicateFound = True\n",
    "                    break\n",
    "\n",
    "                        \n",
    "            if predicateFound == True:\n",
    "                for np in doc.noun_chunks:\n",
    "                    if(np.root.dep == nsubj and np.root.head == rootVerb):\n",
    "                        wVec = word2vec(str(np.root.text))\n",
    "                    \n",
    "                        for sVec in subjectVec:    \n",
    "                            if abs(cosine_similarity(sVec.reshape(1, -1), wVec.reshape(1, -1))) > 0.5:\n",
    "                                    subjectFound = True\n",
    "                                    holder = np.text\n",
    "                                    break\n",
    "                \n",
    "            if subjectFound == True:\n",
    "                    claim = s\n",
    "                    claims.append(claim)\n",
    "                    #print('claim:', claim)\n",
    "                    #print('by:', holder)\n",
    "                    break\n",
    "\n",
    "        return claims\n",
    "\n",
    "    \n",
    "    claims = documents.apply(lambda d: dependencyGraphSearch(d['title'],d['body'], subjectVec, predicateVec), axis=1)\n",
    "    return claims\n",
    "\n",
    "claimExtraction(100)    "
   ]
  },
  {
   "cell_type": "code",
   "execution_count": null,
   "metadata": {},
   "outputs": [],
   "source": []
  }
 ],
 "metadata": {
  "anaconda-cloud": {},
  "kernelspec": {
   "display_name": "Python [conda root]",
   "language": "python",
   "name": "conda-root-py"
  },
  "language_info": {
   "codemirror_mode": {
    "name": "ipython",
    "version": 3
   },
   "file_extension": ".py",
   "mimetype": "text/x-python",
   "name": "python",
   "nbconvert_exporter": "python",
   "pygments_lexer": "ipython3",
   "version": "3.5.3"
  }
 },
 "nbformat": 4,
 "nbformat_minor": 1
}
