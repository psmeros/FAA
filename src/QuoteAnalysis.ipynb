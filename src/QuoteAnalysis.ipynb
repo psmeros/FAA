{
 "cells": [
  {
   "cell_type": "code",
   "execution_count": 2,
   "metadata": {},
   "outputs": [],
   "source": [
    "%matplotlib inline\n",
    "import numpy as np\n",
    "import pandas as pd\n",
    "import matplotlib.pyplot as plt\n",
    "%load_ext autoreload\n",
    "%autoreload 2\n",
    "\n",
    "from pyspark.sql import SQLContext\n",
    "from pyspark import SparkConf, SparkContext\n",
    "ctx = SQLContext(SparkContext(conf = (SparkConf().setMaster('local[*]').setAppName('quoteExtraction').set('spark.executor.memory', '2G').set('spark.driver.memory', '40G').set('spark.driver.maxResultSize', '10G'))))"
   ]
  },
  {
   "cell_type": "code",
   "execution_count": 3,
   "metadata": {},
   "outputs": [],
   "source": [
    "from settings import *\n",
    "from utils import *\n",
    "from quoteExtraction import *"
   ]
  },
  {
   "cell_type": "code",
   "execution_count": 4,
   "metadata": {},
   "outputs": [],
   "source": [
    "def quoteExtraction(limitDocuments=10):\n",
    "    query = createQuery(limitDocuments, 'web')\n",
    "    documents = queryDB(query)        \n",
    "\n",
    "    if useSpark:\n",
    "        rddd = ctx.createDataFrame(documents[['title','body']]).rdd\n",
    "        documents['quotes'] = rddd.map(lambda s: dependencyGraphSearch(s.title, s.body)).collect()\n",
    "    else:\n",
    "        documents['quotes'] = documents.apply(lambda d: dependencyGraphSearch(d['title'],d['body']), axis=1)\n",
    "    \n",
    "    documents = documents[['topic_label']].join(documents['quotes'].apply(pd.Series).stack().reset_index(level=1, drop=True).apply(pd.Series))\n",
    "    \n",
    "    print ('#quotesPerDocument: ',len(documents)/limitDocuments)\n",
    "    return documents\n",
    "\n",
    "if useCache:\n",
    "    documents = pd.read_pickle(cachedDataFrame)\n",
    "else:\n",
    "    documents = quoteExtraction(20)\n",
    "    documents.to_pickle(cachedDataFrame)"
   ]
  },
  {
   "cell_type": "code",
   "execution_count": 5,
   "metadata": {
    "scrolled": true
   },
   "outputs": [
    {
     "data": {
      "text/plain": [
       "topic_label\n",
       "Addiction                                          32366\n",
       "Additives, Preservatives                           38270\n",
       "Bacteria, Disease                                  43713\n",
       "Boycott, Ban, Campaign, Action                      7920\n",
       "Children                                           50886\n",
       "Concern, Risk, Worry                               34133\n",
       "Congress, Government                               31849\n",
       "Consumer Awareness, Transparency, Trust            17741\n",
       "Consumer, Demand, Supply                           94979\n",
       "Crop, Contamination                                61700\n",
       "Diet, Healthy Eating                               59251\n",
       "Evaluation, Examination, Test                      30218\n",
       "Farm Bill, GMO Bill                                15835\n",
       "Farm, Agriculture, Farmer                          72443\n",
       "Fortification, Pasteurization, -Medieval             636\n",
       "Fresh Food, Real Food, Healthy Food                71651\n",
       "GMO, Bioengineering                                79528\n",
       "Health, Well-Being, Wellness                       34490\n",
       "Hunger, Availability, Security, Food, Shortage     15497\n",
       "Industry, Processing, Corporation, Food            44209\n",
       "Insecticide, Toxicity, Pesticide, Poison           26572\n",
       "Junk Food, Unhealthy Food                          80556\n",
       "Law, Label, Labeling, GMO                          66532\n",
       "Nutritional, Nutrient                              60564\n",
       "Obesity, Fat, Weight                               96851\n",
       "Palatable, Taste                                   10696\n",
       "Processed Food                                     26358\n",
       "Profit, Revenue, Earnings                          10783\n",
       "Recall, Health Risk                                60055\n",
       "Research, Advancement, Progress                    77464\n",
       "Salt, Sugar, Fat, Recommendation                  116627\n",
       "Sugar, Diabetes                                    88225\n",
       "Urbanisation, Globalisation                          210\n",
       "Warming, Climate Change                            32193\n",
       "Waste, Food, Recycling, Landfill                   15020\n",
       "Water Shortage                                     13995\n",
       "dtype: int64"
      ]
     },
     "execution_count": 5,
     "metadata": {},
     "output_type": "execute_result"
    }
   ],
   "source": [
    "documents[['topic_label', 'quotee']].groupby('topic_label').size()"
   ]
  },
  {
   "cell_type": "code",
   "execution_count": null,
   "metadata": {
    "collapsed": true
   },
   "outputs": [],
   "source": []
  }
 ],
 "metadata": {
  "anaconda-cloud": {},
  "kernelspec": {
   "display_name": "Python [conda root]",
   "language": "python",
   "name": "conda-root-py"
  },
  "language_info": {
   "codemirror_mode": {
    "name": "ipython",
    "version": 3
   },
   "file_extension": ".py",
   "mimetype": "text/x-python",
   "name": "python",
   "nbconvert_exporter": "python",
   "pygments_lexer": "ipython3",
   "version": "3.5.4"
  }
 },
 "nbformat": 4,
 "nbformat_minor": 1
}
