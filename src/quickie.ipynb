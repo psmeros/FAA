{
 "cells": [
  {
   "cell_type": "code",
   "execution_count": null,
   "metadata": {},
   "outputs": [],
   "source": [
    "%matplotlib inline\n",
    "import numpy as np\n",
    "import pandas as pd\n",
    "import matplotlib.pyplot as plt\n",
    "import matplotlib.ticker\n",
    "import seaborn as sns\n",
    "%load_ext autoreload\n",
    "%autoreload 2\n",
    "\n",
    "from settings import *\n",
    "from glove import sent2vec, cos_sim\n",
    "import re"
   ]
  },
  {
   "cell_type": "code",
   "execution_count": null,
   "metadata": {},
   "outputs": [],
   "source": [
    "pairs = pd.read_csv(diffusion_graph_dir+'article_pairs.tsv', sep='\\t')\n",
    "article_details = pd.read_csv('cache/article_details_v2.tsv', sep='\\t')\n",
    "paper_details = pd.read_csv('cache/paper_details_v2.tsv', sep='\\t')"
   ]
  },
  {
   "cell_type": "code",
   "execution_count": null,
   "metadata": {},
   "outputs": [],
   "source": [
    "pairs = pairs.merge(paper_details[['url','paragraphs', 'full_text']], left_on='paper', right_on='url').merge(article_details[['url','paragraphs', 'full_text']], left_on='article', right_on='url')[['paper', 'paragraphs_x', 'full_text_x', 'article', 'paragraphs_y', 'full_text_y']]"
   ]
  },
  {
   "cell_type": "code",
   "execution_count": null,
   "metadata": {},
   "outputs": [],
   "source": [
    "def compute_similarity(pairs):\n",
    "    \n",
    "    paragraphs_x = eval(pairs['paragraphs_x'])\n",
    "    paragraphs_y = eval(pairs['paragraphs_y'])\n",
    "    full_text_x = re.split('\\n', pairs['full_text_x'])\n",
    "    full_text_y = re.split('\\n', pairs['full_text_x'])\n",
    "    \n",
    "    sum_sim = 0.0\n",
    "    for px, ftx in zip(paragraphs_x, full_text_x):\n",
    "        px = set(px)\n",
    "        ftxv = sent2vec(ftx)\n",
    "        max_sim = 0.0\n",
    "        pair = ''\n",
    "        for py, fty in zip(paragraphs_y, full_text_y):\n",
    "            ftyv = sent2vec(fty)\n",
    "            sim = min((1 + (len(px.intersection(py)) / (len(px.union(py))+1))) * cos_sim(ftxv, ftyv) * (min(len(ftx), len(fty)) / (max(len(ftx), len(fty)) +1)), 1.0)\n",
    "            if sim > max_sim:\n",
    "                max_sim = sim\n",
    "                pair = 'Pair:' + str(ftx) + '--' + str(fty) + '--' + str(sim) + '--' + str((len(px.intersection(py)) / (len(px.union(py))+1))) + '--' + str(cos_sim(ftxv, ftyv))\n",
    "                \n",
    "        if max_sim > 0.8:\n",
    "            print(pair)\n",
    "        sum_sim += max_sim\n",
    "        \n",
    "    return sum_sim / len(paragraphs_x)\n",
    "\n",
    "\n",
    "print(pairs.iloc[2343]['paper'], pairs.iloc[2343]['article'])\n",
    "compute_similarity(pairs.iloc[5993])"
   ]
  },
  {
   "cell_type": "code",
   "execution_count": null,
   "metadata": {},
   "outputs": [],
   "source": []
  }
 ],
 "metadata": {
  "anaconda-cloud": {},
  "kernelspec": {
   "display_name": "Python 3",
   "language": "python",
   "name": "python3"
  },
  "language_info": {
   "codemirror_mode": {
    "name": "ipython",
    "version": 3
   },
   "file_extension": ".py",
   "mimetype": "text/x-python",
   "name": "python",
   "nbconvert_exporter": "python",
   "pygments_lexer": "ipython3",
   "version": "3.6.3"
  }
 },
 "nbformat": 4,
 "nbformat_minor": 1
}
