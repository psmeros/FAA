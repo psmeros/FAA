{
 "cells": [
  {
   "cell_type": "code",
   "execution_count": 2,
   "metadata": {},
   "outputs": [],
   "source": [
    "%matplotlib inline\n",
    "import numpy as np\n",
    "import pandas as pd\n",
    "import matplotlib.pyplot as plt\n",
    "import matplotlib.ticker\n",
    "import seaborn as sns\n",
    "%load_ext autoreload\n",
    "%autoreload 2\n",
    "\n",
    "from settings import *"
   ]
  },
  {
   "cell_type": "code",
   "execution_count": 3,
   "metadata": {},
   "outputs": [],
   "source": [
    "# df = pd.read_csv(cache_dir+'similarity_model/test_pairs_v3.tsv', sep='\\t')\n",
    "\n",
    "# df = pd.DataFrame(df.groupby(['article'])['related'].apply(list).reset_index()['related'])\n",
    "\n",
    "# df['num_of_links'] = df['related'].apply(len)\n",
    "\n",
    "# def count_True(l):\n",
    "#     total = len(l)\n",
    "#     trues = len([1 for e in l if e])\n",
    "#     return trues/total\n",
    "\n",
    "\n",
    "# df['perc'] = df['related'].apply(count_True)\n",
    "\n",
    "# df.to_csv('/Users/smeros/Desktop/test.tsv', sep='\\t', index=None)\n",
    "\n",
    "# df[df['num_of_links']==4].to_csv('/Users/smeros/Desktop/test_4.tsv', sep='\\t', index=None)"
   ]
  }
 ],
 "metadata": {
  "anaconda-cloud": {},
  "kernelspec": {
   "display_name": "Python 3",
   "language": "python",
   "name": "python3"
  },
  "language_info": {
   "codemirror_mode": {
    "name": "ipython",
    "version": 3
   },
   "file_extension": ".py",
   "mimetype": "text/x-python",
   "name": "python",
   "nbconvert_exporter": "python",
   "pygments_lexer": "ipython3",
   "version": "3.5.6"
  }
 },
 "nbformat": 4,
 "nbformat_minor": 1
}
