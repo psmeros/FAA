{
 "cells": [
  {
   "cell_type": "code",
   "execution_count": 9,
   "metadata": {},
   "outputs": [],
   "source": [
    "%matplotlib inline\n",
    "import numpy as np\n",
    "import pandas as pd\n",
    "import matplotlib.pyplot as plt\n",
    "import matplotlib.ticker\n",
    "import seaborn as sns\n",
    "%load_ext autoreload\n",
    "%autoreload 2\n",
    "pd.options.mode.chained_assignment = None"
   ]
  },
  {
   "cell_type": "code",
   "execution_count": 2,
   "metadata": {},
   "outputs": [],
   "source": [
    "# alc_tob_caf use-case\n",
    "# articles = pd.read_csv(cache_dir+'article_details_v5.tsv', sep='\\t')\n",
    "\n",
    "# articles = articles[articles.topics.apply(lambda x: (max(eval(x)[0]) != 0.062500) & (max(eval(x)[0]) == eval(x)[0][11]))]\n",
    "# articles = articles[articles.entities.apply(lambda x: any(key in x for key in ['alcohol', 'tobacco', 'caffeine']))]\n",
    "\n",
    "# articles.to_csv(cache_dir+'alc_tob_caf.tsv', sep='\\t', index=None)\n",
    "\n",
    "# aggregate_tweet_details(cache_dir+'diffusion_graph/pruned_graph_v3.tsv', cache_dir+'tweet_details_v2.tsv', cache_dir+'alc_tob_caf.tsv', cache_dir+'alc_tob_caf.tsv')\n",
    "\n",
    "# articles = pd.read_csv(cache_dir+'alc_tob_caf.tsv', sep='\\t')\n",
    "# articles = articles[articles.replies.apply(lambda x: x != '[]')][['url', 'title']]\n",
    "\n",
    "# df1 = pd.read_csv(cache_dir+'similarity_model/train_pairs_v1.tsv', sep='\\t')\n",
    "# df1 = df1[df1['related']]\n",
    "# df2 = pd.read_csv(cache_dir+'similarity_model/test_pairs_v3.tsv', sep='\\t')\n",
    "# df2 = df2[df2['related']]\n",
    "# df = pd.concat([df1, df2]).drop('related', axis=1)\n",
    "\n",
    "# articles.merge(df, left_on='url', right_on='article').drop('url', axis=1).groupby(['article', 'title'])['paper'].apply(lambda x: '\\n'.join(x)).reset_index().to_csv(cache_dir+'alc_tob_caf.tsv', sep='\\t')\n",
    "\n",
    "# crispr use-case\n",
    "# articles = pd.read_csv(cache_dir+'article_details_v5.tsv', sep='\\t')\n",
    "\n",
    "# articles = articles[articles.entities.apply(lambda x: any(key in x for key in ['CRISPR']))]\n",
    "# articles = articles[articles['url'].apply(lambda x: not x.startswith('http://www.coach-boursier.com'))]\n",
    "\n",
    "# articles.to_csv(cache_dir+'crispr.tsv', sep='\\t', index=None)\n",
    "\n",
    "# aggregate_tweet_details(cache_dir+'diffusion_graph/pruned_graph_v3.tsv', cache_dir+'tweet_details_v2.tsv', cache_dir+'crispr.tsv', cache_dir+'crispr.tsv')\n",
    "\n",
    "# articles = pd.read_csv(cache_dir+'crispr.tsv', sep='\\t')\n",
    "\n",
    "# df1 = pd.read_csv(cache_dir+'similarity_model/train_pairs_v1.tsv', sep='\\t')\n",
    "# df1 = df1[df1['related']]\n",
    "# df2 = pd.read_csv(cache_dir+'similarity_model/test_pairs_v3.tsv', sep='\\t')\n",
    "# df2 = df2[df2['related']]\n",
    "# df = pd.concat([df1, df2]).drop('related', axis=1)\n",
    "\n",
    "# articles.merge(df, left_on='url', right_on='article').drop('url', axis=1).groupby(['article', 'title'])['paper'].apply(lambda x: '\\n'.join(x)).reset_index().to_csv(cache_dir+'crispr.tsv', sep='\\t')"
   ]
  }
 ],
 "metadata": {
  "anaconda-cloud": {},
  "kernelspec": {
   "display_name": "Python 3",
   "language": "python",
   "name": "python3"
  },
  "language_info": {
   "codemirror_mode": {
    "name": "ipython",
    "version": 3
   },
   "file_extension": ".py",
   "mimetype": "text/x-python",
   "name": "python",
   "nbconvert_exporter": "python",
   "pygments_lexer": "ipython3",
   "version": "3.5.6"
  },
  "toc": {
   "base_numbering": 1,
   "nav_menu": {},
   "number_sections": true,
   "sideBar": true,
   "skip_h1_title": false,
   "title_cell": "Table of Contents",
   "title_sidebar": "Contents",
   "toc_cell": false,
   "toc_position": {},
   "toc_section_display": true,
   "toc_window_display": false
  }
 },
 "nbformat": 4,
 "nbformat_minor": 1
}
