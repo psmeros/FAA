{
 "cells": [
  {
   "cell_type": "code",
   "execution_count": null,
   "metadata": {},
   "outputs": [],
   "source": [
    "%matplotlib inline\n",
    "import numpy as np\n",
    "import pandas as pd\n",
    "import matplotlib.pyplot as plt\n",
    "import matplotlib.ticker\n",
    "import seaborn as sns\n",
    "%load_ext autoreload\n",
    "%autoreload 2\n",
    "\n",
    "from settings import *\n",
    "from glove import *\n",
    "import re\n",
    "from sklearn.ensemble import RandomForestClassifier\n",
    "from sklearn.model_selection import KFold\n",
    "from textblob import TextBlob"
   ]
  },
  {
   "cell_type": "code",
   "execution_count": null,
   "metadata": {},
   "outputs": [],
   "source": [
    "# df = pd.read_csv(cache_dir+'similarity_model/test_pairs_v3.tsv', sep='\\t')\n",
    "\n",
    "# df = pd.DataFrame(df.groupby(['article'])['related'].apply(list).reset_index()['related'])\n",
    "\n",
    "# df['num_of_links'] = df['related'].apply(len)\n",
    "\n",
    "# def count_True(l):\n",
    "#     total = len(l)\n",
    "#     trues = len([1 for e in l if e])\n",
    "#     return trues/total\n",
    "\n",
    "\n",
    "# df['perc'] = df['related'].apply(count_True)\n",
    "\n",
    "# df.to_csv('/Users/smeros/Desktop/test.tsv', sep='\\t', index=None)\n",
    "\n",
    "# df[df['num_of_links']==4].to_csv('/Users/smeros/Desktop/test_4.tsv', sep='\\t', index=None)"
   ]
  },
  {
   "cell_type": "code",
   "execution_count": null,
   "metadata": {},
   "outputs": [],
   "source": [
    "# snopes = pd.read_csv('/home/psmeros/Dropbox/scilens/snopes-u.csv')\n",
    "# articles = pd.read_csv(cache_dir+'article_details_v5.tsv', sep='\\t')\n",
    "\n",
    "# def get_snopes_articles(title, snopes_list, snopes_list_vec):\n",
    "#     for sno, vec in zip(snopes_list, snopes_list_vec):\n",
    "#         title_vec = sent2vec(title)\n",
    "#         sim = cos_sim(vec, title_vec)\n",
    "#         if sim > 0.8:\n",
    "#             print('title:', title)\n",
    "#             print('snopes:', sno)\n",
    "#             print(sim)\n",
    "#     return\n",
    "\n",
    "\n",
    "# articles.apply(lambda x: get_snopes_articles(x['title'], snopes['claim'].tolist(), snopes['claim'].apply(sent2vec).tolist()), axis=1)"
   ]
  },
  {
   "cell_type": "code",
   "execution_count": null,
   "metadata": {},
   "outputs": [],
   "source": [
    "df = pd.read_csv('/home/psmeros/Dropbox/scilens/corpus/annotated_replies.csv')"
   ]
  },
  {
   "cell_type": "code",
   "execution_count": null,
   "metadata": {},
   "outputs": [],
   "source": [
    "df['sim'] = df.apply(lambda x: cos_sim(sent2vec(x['full_text']), sent2vec(x['reply'])),axis=1)"
   ]
  },
  {
   "cell_type": "code",
   "execution_count": null,
   "metadata": {},
   "outputs": [],
   "source": [
    "df['word_count'] = df['reply'].apply(lambda x: len((re.sub(' +',' ',re.sub(r'[^a-zA-Z0-9 ]', '', x))).strip().split(' ')))"
   ]
  },
  {
   "cell_type": "code",
   "execution_count": null,
   "metadata": {},
   "outputs": [],
   "source": [
    "df['negation'] = df['reply'].apply(lambda x: any(n in x for n in [' no ', ' not ', 'n\\'t ']))"
   ]
  },
  {
   "cell_type": "code",
   "execution_count": null,
   "metadata": {},
   "outputs": [],
   "source": [
    "positive_words = open(conf['aux_dir'] + 'small_files/opinion/positive-words.txt', encoding='utf-8', errors='ignore').read().splitlines()\n",
    "negative_words = open(conf['aux_dir'] + 'small_files/opinion/negative-words.txt', encoding='utf-8', errors='ignore').read().splitlines()\n",
    "df['positive'] = df['reply'].apply(lambda x: sum(n in x for n in positive_words))\n",
    "df['negative'] = df['reply'].apply(lambda x: sum(n in x for n in negative_words))"
   ]
  },
  {
   "cell_type": "code",
   "execution_count": null,
   "metadata": {
    "scrolled": false
   },
   "outputs": [],
   "source": [
    "df['length'] = df['reply'].apply(len)"
   ]
  },
  {
   "cell_type": "code",
   "execution_count": null,
   "metadata": {},
   "outputs": [],
   "source": [
    "df['has_url'] = df['reply'].apply(lambda x: bool(re.search('http(s)?://', x)))"
   ]
  },
  {
   "cell_type": "code",
   "execution_count": null,
   "metadata": {},
   "outputs": [],
   "source": [
    "df['quest_mark'] = df['reply'].apply(lambda x: x.count('?'))"
   ]
  },
  {
   "cell_type": "code",
   "execution_count": null,
   "metadata": {},
   "outputs": [],
   "source": [
    "df['excl_mark'] = df['reply'].apply(lambda x: x.count('!'))"
   ]
  },
  {
   "cell_type": "code",
   "execution_count": null,
   "metadata": {},
   "outputs": [],
   "source": [
    "df['reply_polarity'] =  df['reply'].apply(lambda x: TextBlob(x).sentiment.polarity)\n",
    "df['reply_subjectivity'] =  df['reply'].apply(lambda x: TextBlob(x).sentiment.subjectivity)\n",
    "df['full_text_polarity'] =  df['full_text'].apply(lambda x: TextBlob(x).sentiment.polarity)\n",
    "df['full_text_subjectivity'] =  df['full_text'].apply(lambda x: TextBlob(x).sentiment.subjectivity)"
   ]
  },
  {
   "cell_type": "code",
   "execution_count": null,
   "metadata": {},
   "outputs": [],
   "source": [
    "df['stance'] = df['stance'].apply(lambda x: 'con-quest' if x in ['con', 'quest'] else x).apply(lambda x: 'nr-com' if x in ['nr', 'com']  else x)"
   ]
  },
  {
   "cell_type": "code",
   "execution_count": null,
   "metadata": {},
   "outputs": [],
   "source": [
    "X = np.array(df.drop(['full_text', 'reply', 'stance'], axis=1).values, dtype=np.float32)\n",
    "y = df['stance'].values"
   ]
  },
  {
   "cell_type": "code",
   "execution_count": null,
   "metadata": {},
   "outputs": [],
   "source": [
    "fold = 5\n",
    "kf = KFold(n_splits=fold, shuffle=True)\n",
    "score = 0.0\n",
    "for train_index, test_index in kf.split(X):\n",
    "    X_train, X_test = X[train_index], X[test_index]\n",
    "    y_train, y_test = y[train_index], y[test_index]\n",
    "    #X_train = (X_train - X_train.mean(axis=0)) / (X_train.std(axis=0)+1e-9)\n",
    "    #X_test = (X_test - X_test.mean(axis=0)) / (X_test.std(axis=0)+1e-9)\n",
    "    n_est = 50\n",
    "    m_dep = 10\n",
    "    #from sklearn.svm import LinearSVC\n",
    "    #classifier = LinearSVC(C=0.1, max_iter=10000)\n",
    "    classifier = RandomForestClassifier(n_estimators=n_est, max_depth=m_dep, n_jobs=-1)\n",
    "    classifier.fit(X_train, y_train)\n",
    "    score += classifier.score(X_test, y_test)\n",
    "\n",
    "print('Score:', score/fold)\n"
   ]
  }
 ],
 "metadata": {
  "anaconda-cloud": {},
  "kernelspec": {
   "display_name": "Python 3",
   "language": "python",
   "name": "python3"
  },
  "language_info": {
   "codemirror_mode": {
    "name": "ipython",
    "version": 3
   },
   "file_extension": ".py",
   "mimetype": "text/x-python",
   "name": "python",
   "nbconvert_exporter": "python",
   "pygments_lexer": "ipython3",
   "version": "3.6.3"
  },
  "toc": {
   "base_numbering": 1,
   "nav_menu": {},
   "number_sections": true,
   "sideBar": true,
   "skip_h1_title": false,
   "title_cell": "Table of Contents",
   "title_sidebar": "Contents",
   "toc_cell": false,
   "toc_position": {},
   "toc_section_display": true,
   "toc_window_display": false
  }
 },
 "nbformat": 4,
 "nbformat_minor": 1
}
