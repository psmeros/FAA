{
 "cells": [
  {
   "cell_type": "code",
   "execution_count": 1,
   "metadata": {},
   "outputs": [],
   "source": [
    "%matplotlib inline\n",
    "import numpy as np\n",
    "import pandas as pd\n",
    "import matplotlib.pyplot as plt\n",
    "import matplotlib.ticker\n",
    "import seaborn as sns\n",
    "%load_ext autoreload\n",
    "%autoreload 2\n",
    "\n",
    "from settings import *\n",
    "from glove import *\n",
    "import re\n",
    "import pickle\n",
    "from sklearn.ensemble import RandomForestClassifier\n",
    "from sklearn.model_selection import KFold\n",
    "from textblob import TextBlob\n",
    "from tweets_ops import *\n",
    "from sklearn.metrics import confusion_matrix\n",
    "\n",
    "pd.options.mode.chained_assignment = None"
   ]
  },
  {
   "cell_type": "code",
   "execution_count": null,
   "metadata": {},
   "outputs": [],
   "source": [
    "#alc_tob_caf use-case\n",
    "# articles = pd.read_csv(cache_dir+'article_details_v5.tsv', sep='\\t')\n",
    "\n",
    "# articles = articles[articles.topics.apply(lambda x: (max(eval(x)[0]) != 0.062500) & (max(eval(x)[0]) == eval(x)[0][11]))]\n",
    "# articles = articles[articles.entities.apply(lambda x: any(key in x for key in ['alcohol', 'tobacco', 'caffeine']))]\n",
    "\n",
    "# articles.to_csv(cache_dir+'alc_tob_caf.tsv', sep='\\t', index=None)\n",
    "\n",
    "# aggregate_tweet_details(cache_dir+'diffusion_graph/pruned_graph_v3.tsv', cache_dir+'tweet_details_v2.tsv', cache_dir+'alc_tob_caf.tsv', cache_dir+'alc_tob_caf.tsv')\n",
    "\n",
    "# articles = pd.read_csv(cache_dir+'alc_tob_caf.tsv', sep='\\t')\n",
    "# articles = articles[articles.replies.apply(lambda x: x != '[]')][['url', 'title']]\n",
    "\n",
    "# df1 = pd.read_csv(cache_dir+'similarity_model/train_pairs_v1.tsv', sep='\\t')\n",
    "# df1 = df1[df1['related']]\n",
    "# df2 = pd.read_csv(cache_dir+'similarity_model/test_pairs_v3.tsv', sep='\\t')\n",
    "# df2 = df2[df2['related']]\n",
    "# df = pd.concat([df1, df2]).drop('related', axis=1)\n",
    "\n",
    "# articles.merge(df, left_on='url', right_on='article').drop('url', axis=1).groupby(['article', 'title'])['paper'].apply(lambda x: '\\n'.join(x)).reset_index().to_csv(cache_dir+'alc_tob_caf.tsv', sep='\\t')\n",
    "\n",
    "#crispr use-case\n",
    "# articles = pd.read_csv(cache_dir+'article_details_v5.tsv', sep='\\t')\n",
    "\n",
    "# articles = articles[articles.entities.apply(lambda x: any(key in x for key in ['CRISPR']))]\n",
    "# articles = articles[articles['url'].apply(lambda x: not x.startswith('http://www.coach-boursier.com'))]\n",
    "\n",
    "# articles.to_csv(cache_dir+'crispr.tsv', sep='\\t', index=None)\n",
    "\n",
    "# aggregate_tweet_details(cache_dir+'diffusion_graph/pruned_graph_v3.tsv', cache_dir+'tweet_details_v2.tsv', cache_dir+'crispr.tsv', cache_dir+'crispr.tsv')\n",
    "\n",
    "# articles = pd.read_csv(cache_dir+'crispr.tsv', sep='\\t')\n",
    "\n",
    "# df1 = pd.read_csv(cache_dir+'similarity_model/train_pairs_v1.tsv', sep='\\t')\n",
    "# df1 = df1[df1['related']]\n",
    "# df2 = pd.read_csv(cache_dir+'similarity_model/test_pairs_v3.tsv', sep='\\t')\n",
    "# df2 = df2[df2['related']]\n",
    "# df = pd.concat([df1, df2]).drop('related', axis=1)\n",
    "\n",
    "# articles.merge(df, left_on='url', right_on='article').drop('url', axis=1).groupby(['article', 'title'])['paper'].apply(lambda x: '\\n'.join(x)).reset_index().to_csv(cache_dir+'crispr.tsv', sep='\\t')"
   ]
  },
  {
   "cell_type": "code",
   "execution_count": null,
   "metadata": {},
   "outputs": [],
   "source": [
    "# #one source articles\n",
    "# df = pd.read_csv(cache_dir+'similarity_model/test_pairs_v3.tsv', sep='\\t')\n",
    "\n",
    "# df = pd.DataFrame(df.groupby(['article'])['related'].apply(list).reset_index()['related'])\n",
    "\n",
    "# one_source = pd.read_csv(cache_dir+'similarity_model/train_pairs_v1.tsv', sep='\\t').shape[0]\n",
    "# articles_num = df.shape[0] + one_source\n",
    "\n",
    "# one_source += df[df['related'].apply(lambda x: sum(x)==1)].shape[0]\n",
    "\n",
    "# one_source/articles_num"
   ]
  },
  {
   "cell_type": "code",
   "execution_count": null,
   "metadata": {},
   "outputs": [],
   "source": [
    "# snopes = pd.read_csv('/home/psmeros/Dropbox/scilens/snopes-u.csv')\n",
    "# articles = pd.read_csv(cache_dir+'article_details_v5.tsv', sep='\\t')\n",
    "\n",
    "# def get_snopes_articles(title, snopes_list, snopes_list_vec):\n",
    "#     for sno, vec in zip(snopes_list, snopes_list_vec):\n",
    "#         title_vec = sent2vec(title)\n",
    "#         sim = cos_sim(vec, title_vec)\n",
    "#         if sim > 0.8:\n",
    "#             print('title:', title)\n",
    "#             print('snopes:', sno)\n",
    "#             print(sim)\n",
    "#     return\n",
    "\n",
    "\n",
    "# articles.apply(lambda x: get_snopes_articles(x['title'], snopes['claim'].tolist(), snopes['claim'].apply(sent2vec).tolist()), axis=1)"
   ]
  },
  {
   "cell_type": "code",
   "execution_count": null,
   "metadata": {},
   "outputs": [],
   "source": [
    "df = pd.read_csv(cache_dir+'../corpus/stance_classification.csv').rename(columns={'what_do_you_believe_is_the_repliers_stance_position_towards_the_tweet': 'stance', 'what_do_you_believe_is_the_repliers_stance_position_towards_the_tweet:confidence': 'confidence'})\n",
    "df = df[df.confidence>0.5][['full_text', 'reply', 'stance']]\n",
    "df = df[df['stance']!='nr']"
   ]
  },
  {
   "cell_type": "code",
   "execution_count": 2,
   "metadata": {},
   "outputs": [],
   "source": [
    "tweets = pd.read_csv(cache_dir+'tweet_details_v2.tsv', sep='\\t')\n",
    "df = tweets[['full_text']]\n",
    "df['reply'] = tweets['replies'].apply(lambda x: ' '.join(eval(x)))\n"
   ]
  },
  {
   "cell_type": "code",
   "execution_count": 3,
   "metadata": {},
   "outputs": [],
   "source": [
    "df['sim'] = df.apply(lambda x: cos_sim(sent2vec(x['full_text']), sent2vec(x['reply'])),axis=1)"
   ]
  },
  {
   "cell_type": "code",
   "execution_count": 4,
   "metadata": {},
   "outputs": [],
   "source": [
    "df['word_count'] = df['reply'].apply(lambda x: len((re.sub(' +',' ',re.sub(r'[^a-zA-Z0-9 ]', '', x))).strip().split(' ')))"
   ]
  },
  {
   "cell_type": "code",
   "execution_count": 5,
   "metadata": {},
   "outputs": [],
   "source": [
    "df['negation'] = df['reply'].apply(lambda x: any(n in x for n in [' no ', ' not ', 'n\\'t ']))"
   ]
  },
  {
   "cell_type": "code",
   "execution_count": 6,
   "metadata": {},
   "outputs": [],
   "source": [
    "positive_words = open(conf['aux_dir'] + 'small_files/opinion/positive-words.txt', encoding='utf-8', errors='ignore').read().splitlines()\n",
    "negative_words = open(conf['aux_dir'] + 'small_files/opinion/negative-words.txt', encoding='utf-8', errors='ignore').read().splitlines()\n",
    "df['positive'] = df['reply'].apply(lambda x: sum(n in x for n in positive_words))\n",
    "df['negative'] = df['reply'].apply(lambda x: sum(n in x for n in negative_words))"
   ]
  },
  {
   "cell_type": "code",
   "execution_count": 7,
   "metadata": {
    "scrolled": false
   },
   "outputs": [],
   "source": [
    "df['length'] = df['reply'].apply(len)"
   ]
  },
  {
   "cell_type": "code",
   "execution_count": 8,
   "metadata": {},
   "outputs": [],
   "source": [
    "df['has_url'] = df['reply'].apply(lambda x: bool(re.search('http(s)?://', x)))"
   ]
  },
  {
   "cell_type": "code",
   "execution_count": 9,
   "metadata": {},
   "outputs": [],
   "source": [
    "df['quest_mark'] = df['reply'].apply(lambda x: x.count('?'))"
   ]
  },
  {
   "cell_type": "code",
   "execution_count": 10,
   "metadata": {},
   "outputs": [],
   "source": [
    "df['excl_mark'] = df['reply'].apply(lambda x: x.count('!'))"
   ]
  },
  {
   "cell_type": "code",
   "execution_count": 11,
   "metadata": {},
   "outputs": [],
   "source": [
    "df['reply_polarity'] =  df['reply'].apply(lambda x: TextBlob(x).sentiment.polarity)\n",
    "df['reply_subjectivity'] =  df['reply'].apply(lambda x: TextBlob(x).sentiment.subjectivity)\n",
    "df['full_text_polarity'] =  df['full_text'].apply(lambda x: TextBlob(x).sentiment.polarity)\n",
    "df['full_text_subjectivity'] =  df['full_text'].apply(lambda x: TextBlob(x).sentiment.subjectivity)"
   ]
  },
  {
   "cell_type": "code",
   "execution_count": null,
   "metadata": {
    "scrolled": true
   },
   "outputs": [],
   "source": [
    "df['stance'] = df['stance'].apply(lambda x: 'con-quest' if x in ['con', 'quest'] else x).apply(lambda x: 'nr-com-sup' if x in ['nr', 'com', 'sup']  else x)"
   ]
  },
  {
   "cell_type": "code",
   "execution_count": null,
   "metadata": {},
   "outputs": [],
   "source": [
    "X = np.array(df.drop(['full_text', 'reply', 'stance'], axis=1).values, dtype=np.float32)\n",
    "y = df['stance'].values"
   ]
  },
  {
   "cell_type": "code",
   "execution_count": null,
   "metadata": {},
   "outputs": [],
   "source": [
    "df['stance'].value_counts()"
   ]
  },
  {
   "cell_type": "code",
   "execution_count": null,
   "metadata": {},
   "outputs": [],
   "source": [
    "cross_val = False\n",
    "n_est = 100\n",
    "m_dep = 10\n",
    "fold = 2\n",
    "if cross_val:\n",
    "    kf = KFold(n_splits=fold, shuffle=True)\n",
    "    score = 0.0\n",
    "    for train_index, test_index in kf.split(X):\n",
    "        X_train, X_test = X[train_index], X[test_index]\n",
    "        X_train = (X_train - X_train.mean(axis=0)) / (X_train.std(axis=0)+1e-9)\n",
    "        X_test = (X_test - X_test.mean(axis=0)) / (X_test.std(axis=0)+1e-9)\n",
    "        \n",
    "        y_train, y_test = y[train_index], y[test_index]\n",
    "        classifier = RandomForestClassifier(n_estimators=n_est, max_depth=m_dep, n_jobs=-1)\n",
    "        classifier.fit(X_train, y_train)\n",
    "\n",
    "        score += classifier.score(X_test, y_test)\n",
    "        conf_mat = confusion_matrix(y_test, classifier.predict(X_test))\n",
    "        conf_mat = conf_mat.astype('float') / conf_mat.sum(axis=1)[:, np.newaxis]\n",
    "        print(conf_mat)\n",
    "    print('Score:', score/fold)\n",
    "else:\n",
    "    classifier = RandomForestClassifier(n_estimators=n_est, max_depth=m_dep, n_jobs=-1)\n",
    "    X = (X - X.mean(axis=0)) / (X.std(axis=0)+1e-9)\n",
    "    classifier.fit(X, y)\n",
    "    pickle.dump(classifier, open(cache_dir+'stance.pkl', 'wb'))    "
   ]
  },
  {
   "cell_type": "code",
   "execution_count": 13,
   "metadata": {},
   "outputs": [],
   "source": [
    "X = np.array(df.drop(['full_text', 'reply'], axis=1).values, dtype=np.float32)\n",
    "X = (X - X.mean(axis=0)) / (X.std(axis=0)+1e-9)\n",
    "classifier = pickle.load(open(cache_dir+'stance.pkl', 'rb'))\n",
    "tweets['stance']=classifier.predict_proba(X)[:,1]\n"
   ]
  },
  {
   "cell_type": "code",
   "execution_count": 17,
   "metadata": {},
   "outputs": [],
   "source": [
    "tweets['stance']= tweets.apply(lambda x: 0 if x.replies_num==0 else x.stance, axis=1)"
   ]
  },
  {
   "cell_type": "code",
   "execution_count": 19,
   "metadata": {},
   "outputs": [],
   "source": [
    "tweets.to_csv(cache_dir+'tweet_details_v3.tsv', sep='\\t', index=None)"
   ]
  },
  {
   "cell_type": "code",
   "execution_count": null,
   "metadata": {},
   "outputs": [],
   "source": []
  }
 ],
 "metadata": {
  "anaconda-cloud": {},
  "kernelspec": {
   "display_name": "Python 3",
   "language": "python",
   "name": "python3"
  },
  "language_info": {
   "codemirror_mode": {
    "name": "ipython",
    "version": 3
   },
   "file_extension": ".py",
   "mimetype": "text/x-python",
   "name": "python",
   "nbconvert_exporter": "python",
   "pygments_lexer": "ipython3",
   "version": "3.5.6"
  },
  "toc": {
   "base_numbering": 1,
   "nav_menu": {},
   "number_sections": true,
   "sideBar": true,
   "skip_h1_title": false,
   "title_cell": "Table of Contents",
   "title_sidebar": "Contents",
   "toc_cell": false,
   "toc_position": {},
   "toc_section_display": true,
   "toc_window_display": false
  }
 },
 "nbformat": 4,
 "nbformat_minor": 1
}
