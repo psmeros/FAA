{
 "cells": [
  {
   "cell_type": "code",
   "execution_count": null,
   "metadata": {},
   "outputs": [],
   "source": [
    "%matplotlib inline\n",
    "import numpy as np\n",
    "import pandas as pd\n",
    "import matplotlib.pyplot as plt\n",
    "import matplotlib.ticker\n",
    "import seaborn as sns\n",
    "%load_ext autoreload\n",
    "%autoreload 2\n",
    "\n",
    "from settings import *\n",
    "from glove import sent2vec, cos_sim\n",
    "import re"
   ]
  },
  {
   "cell_type": "code",
   "execution_count": null,
   "metadata": {},
   "outputs": [],
   "source": [
    "pairs = pd.read_csv(diffusion_graph_dir+'article_pairs.tsv', sep='\\t')\n",
    "article_details = pd.read_csv('cache/article_details_v3.tsv', sep='\\t')\n",
    "paper_details = pd.read_csv('cache/paper_details_v3.tsv', sep='\\t')"
   ]
  },
  {
   "cell_type": "code",
   "execution_count": null,
   "metadata": {},
   "outputs": [],
   "source": [
    "pairs = pairs.merge(paper_details[['url','entities', 'full_text', 'topics']], left_on='paper', right_on='url').merge(article_details[['url','entities', 'full_text', 'topics']], left_on='article', right_on='url')[['paper', 'entities_x', 'full_text_x', 'topics_x', 'article', 'entities_y', 'full_text_y', 'topics_y']]"
   ]
  },
  {
   "cell_type": "code",
   "execution_count": null,
   "metadata": {},
   "outputs": [],
   "source": [
    "def vector_similarity(vector_x, vector_y):\n",
    "    return cos_sim(vector_x, vector_y)\n",
    "\n",
    "def jaccard_similarity(set_x, set_y):\n",
    "    return len(set_x.intersection(set_y)) / (len(set_x.union(set_y)) + 0.1)\n",
    "\n",
    "def len_similarity(len_x, len_y):\n",
    "    return min(len_x, len_y) / (max(len_x, len_y) + 0.1)\n",
    "\n",
    "def topic_similarity(topics_x, topics_y):\n",
    "    return 1\n",
    "\n",
    "def compute_similarity(pair):\n",
    "    entities_x = eval(pair['entities_x'])\n",
    "    entities_y = eval(pair['entities_y'])\n",
    "    full_text_x = re.split('\\n', pair['full_text_x'])\n",
    "    full_text_y = re.split('\\n', pair['full_text_y'])\n",
    "    \n",
    "    similarities = []\n",
    "    for ex, ftx in zip(entities_x, full_text_x):\n",
    "        ex = set(ex)\n",
    "        ftvx = sent2vec(ftx)\n",
    "        for ey, fty in zip(entities_y, full_text_y):\n",
    "            ey = set(ey)\n",
    "            ftvy = sent2vec(fty)\n",
    "            \n",
    "            vs = vector_similarity(ftvx, ftvy)\n",
    "            js = jaccard_similarity(ex, ey)\n",
    "            ls = len_similarity(len(ftx), len(fty))\n",
    "            ts = topic_similarity(..., ...)\n",
    "            similarities.append((ftx, fty, (vs, js, ls, ts)))\n",
    "            \n",
    "    return similarities\n",
    "\n",
    "#         if max_sim > 0.8:\n",
    "#             print(pair)\n",
    "#         sum_sim += max_sim\n",
    "        \n",
    "#     return sum_sim / len(paragraphs_x)\n",
    "\n",
    "\n",
    "#print(pairs.iloc[2343]['paper'], pairs.iloc[2343]['article'])\n",
    "#compute_similarity(pairs.iloc[5993])"
   ]
  },
  {
   "cell_type": "code",
   "execution_count": null,
   "metadata": {},
   "outputs": [],
   "source": [
    "sample = pairs.sample(1)\n",
    "sample.apply(compute_similarity, axis=1)\n"
   ]
  },
  {
   "cell_type": "code",
   "execution_count": null,
   "metadata": {},
   "outputs": [],
   "source": [
    "len(sample['similarities'].iloc[0])"
   ]
  },
  {
   "cell_type": "code",
   "execution_count": null,
   "metadata": {},
   "outputs": [],
   "source": [
    "len(re.split('\\n', sample['full_text_x'].iloc[0]))"
   ]
  },
  {
   "cell_type": "code",
   "execution_count": null,
   "metadata": {},
   "outputs": [],
   "source": [
    "len(eval(sample['entities_x'].iloc[0]))"
   ]
  },
  {
   "cell_type": "code",
   "execution_count": null,
   "metadata": {},
   "outputs": [],
   "source": [
    "import numpy as np\n",
    "np.array(sample['topics_x'].iloc[0])\n",
    "print(sample['topics_x'].iloc[0])"
   ]
  },
  {
   "cell_type": "code",
   "execution_count": null,
   "metadata": {},
   "outputs": [],
   "source": []
  }
 ],
 "metadata": {
  "anaconda-cloud": {},
  "kernelspec": {
   "display_name": "Python 3",
   "language": "python",
   "name": "python3"
  },
  "language_info": {
   "codemirror_mode": {
    "name": "ipython",
    "version": 3
   },
   "file_extension": ".py",
   "mimetype": "text/x-python",
   "name": "python",
   "nbconvert_exporter": "python",
   "pygments_lexer": "ipython3",
   "version": "3.6.5"
  }
 },
 "nbformat": 4,
 "nbformat_minor": 1
}
