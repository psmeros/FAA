{
 "cells": [
  {
   "cell_type": "code",
   "execution_count": 12,
   "metadata": {},
   "outputs": [
    {
     "name": "stdout",
     "output_type": "stream",
     "text": [
      "The autoreload extension is already loaded. To reload it, use:\n",
      "  %reload_ext autoreload\n"
     ]
    }
   ],
   "source": [
    "%matplotlib inline\n",
    "import numpy as np\n",
    "import pandas as pd\n",
    "import matplotlib.pyplot as plt\n",
    "import matplotlib.ticker\n",
    "import seaborn as sns\n",
    "%load_ext autoreload\n",
    "%autoreload 2\n",
    "\n",
    "from settings import *\n",
    "from url_helpers import analyze_url\n",
    "from sklearn.metrics import cohen_kappa_score, mean_squared_error\n",
    "from math import sqrt"
   ]
  },
  {
   "cell_type": "code",
   "execution_count": 13,
   "metadata": {},
   "outputs": [],
   "source": [
    "figures = conf['aux_dir']+'figure-eight/'\n",
    "trust_thr = .45"
   ]
  },
  {
   "cell_type": "code",
   "execution_count": 14,
   "metadata": {},
   "outputs": [
    {
     "name": "stdout",
     "output_type": "stream",
     "text": [
      "(85, 2)\n"
     ]
    }
   ],
   "source": [
    "df = pd.read_csv(figures+'tobacco-crowd.csv').rename(columns={'how_do_you_rate_the_scientific_quality_of_this_article': 'crowd (w/o indicators)'})\n",
    "df = df[df._trust > trust_thr][['article', 'crowd (w/o indicators)']]\n",
    "df.article = df.article.apply(lambda x: x.replace('https://', 'http://'))\n",
    "print(df.shape)\n",
    "df_crowd = df.groupby('article').mean()"
   ]
  },
  {
   "cell_type": "code",
   "execution_count": 15,
   "metadata": {},
   "outputs": [
    {
     "name": "stdout",
     "output_type": "stream",
     "text": [
      "(65, 2)\n"
     ]
    }
   ],
   "source": [
    "df = pd.read_csv(figures+'tobacco-crowd-ind.csv').rename(columns={'how_do_you_rate_the_scientific_quality_of_this_article': 'crowd (w/ indicators)'})\n",
    "df = df[df._trust > trust_thr][['article', 'crowd (w/ indicators)']]\n",
    "df.article = df.article.apply(lambda x: x.replace('https://', 'http://'))\n",
    "print(df.shape)\n",
    "df_crowd_ind = df.groupby('article').mean()"
   ]
  },
  {
   "cell_type": "code",
   "execution_count": 16,
   "metadata": {},
   "outputs": [
    {
     "name": "stdout",
     "output_type": "stream",
     "text": [
      "0.09090909090909094\n"
     ]
    }
   ],
   "source": [
    "df1 = pd.read_csv(figures+'tobacco-Andreu.csv').rename(columns={'how_do_you_rate_the_scientific_quality_of_this_article': 'expert1'}).sort_values(by='article')\n",
    "df2 = pd.read_csv(figures+'tobacco-Aina.csv').rename(columns={'how_do_you_rate_the_scientific_quality_of_this_article': 'expert2'}).sort_values(by='article').drop('article', axis=1)\n",
    "df_exp = pd.concat([df1,df2], axis=1)[['article', 'expert1', 'expert2']]\n",
    "df_exp.article = df_exp.article.apply(lambda x: x.replace('https://', 'http://'))\n",
    "df_exp['diff'] = abs(df_exp['expert1'] - df_exp['expert2'])\n",
    "df_exp['expert'] = (df_exp['expert1'] + df_exp['expert2'])/2\n",
    "df_exp = df_exp.set_index('article')\n",
    "print(cohen_kappa_score(df_exp['expert1'], df_exp['expert2']))\n"
   ]
  },
  {
   "cell_type": "code",
   "execution_count": 17,
   "metadata": {},
   "outputs": [],
   "source": [
    "df_sci = pd.read_csv(cache_dir + 'scilens_atc.tsv', sep='\\t')\n",
    "df_sci = df_sci.set_index('article')"
   ]
  },
  {
   "cell_type": "code",
   "execution_count": 18,
   "metadata": {},
   "outputs": [],
   "source": [
    "df = df_crowd.join(df_exp).join(df_crowd_ind).join(df_sci).reset_index()"
   ]
  },
  {
   "cell_type": "code",
   "execution_count": 19,
   "metadata": {},
   "outputs": [
    {
     "name": "stdout",
     "output_type": "stream",
     "text": [
      "0.8004463040793465\n",
      "0.45425676257949793\n",
      "1.4142135623730951\n",
      "\n",
      "1.2776117041834998\n",
      "1.1829224638815325\n",
      "0.7637626158259734\n",
      "\n",
      "0.4\n",
      "1.3333333333333333\n",
      "0.0\n",
      "\n",
      "1.10073838853744\n",
      "1.0003471619615085\n",
      "1.02469507659596\n"
     ]
    }
   ],
   "source": [
    "print(sqrt(mean_squared_error(df[df['diff']==0]['crowd (w/o indicators)'], df[df['diff']==0]['expert'])))\n",
    "print(sqrt(mean_squared_error(df[df['diff']==0]['crowd (w/ indicators)'], df[df['diff']==0]['expert'])))\n",
    "print(sqrt(mean_squared_error(df[df['diff']==0]['scilens'], df[df['diff']==0]['expert'])))\n",
    "print()\n",
    "print(sqrt(mean_squared_error(df[df['diff']==1]['crowd (w/o indicators)'], df[df['diff']==1]['expert'])))\n",
    "print(sqrt(mean_squared_error(df[df['diff']==1]['crowd (w/ indicators)'], df[df['diff']==1]['expert'])))\n",
    "print(sqrt(mean_squared_error(df[df['diff']==1]['scilens'], df[df['diff']==1]['expert'])))\n",
    "print()\n",
    "print(sqrt(mean_squared_error(df[df['diff']>1]['crowd (w/o indicators)'], df[df['diff']>1]['expert'])))\n",
    "print(sqrt(mean_squared_error(df[df['diff']>1]['crowd (w/ indicators)'], df[df['diff']>1]['expert'])))\n",
    "print(sqrt(mean_squared_error(df[df['diff']>1]['scilens'], df[df['diff']>1]['expert'])))\n",
    "print()\n",
    "print(sqrt(mean_squared_error(df['crowd (w/o indicators)'], df['expert'])))\n",
    "print(sqrt(mean_squared_error(df['crowd (w/ indicators)'], df['expert'])))\n",
    "print(sqrt(mean_squared_error(df['scilens'], df['expert'])))"
   ]
  },
  {
   "cell_type": "code",
   "execution_count": 20,
   "metadata": {},
   "outputs": [],
   "source": [
    "df = df.sort_values(by=['expert', 'diff'])\n",
    "l = df['article'].apply(lambda x: analyze_url(x)[0]).tolist()\n",
    "df['article'] = [v + ' (' + str(l[:i].count(v) + 1) + ')' if l.count(v) > 1 else v for i, v in enumerate(l)]\n",
    "df['article'] = df.apply(lambda x: x['article']+'*' if x['diff']==0 else x['article']+'**' if x['diff']==1 else x['article']+'***', axis = 1)\n",
    "df = df[['article', 'crowd (w/o indicators)', 'crowd (w/ indicators)', 'expert', 'scilens']]\n",
    "df = pd.melt(df, id_vars=['article'], var_name='Rated by', value_name='Quality').rename(columns={'article': 'Outlet'})\n",
    "df['Quality'] = df['Quality'] + 2"
   ]
  },
  {
   "cell_type": "code",
   "execution_count": 21,
   "metadata": {},
   "outputs": [],
   "source": [
    "df = df.sort_values(by=['Rated by', 'Quality'], ascending=[True,True])\n",
    "df = pd.concat([df[(df['Rated by'] == 'expert')],df[~(df['Rated by'] == 'expert')]])"
   ]
  },
  {
   "cell_type": "code",
   "execution_count": null,
   "metadata": {},
   "outputs": [],
   "source": [
    "df"
   ]
  },
  {
   "cell_type": "code",
   "execution_count": 23,
   "metadata": {},
   "outputs": [
    {
     "ename": "AttributeError",
     "evalue": "module 'seaborn' has no attribute 'barploth'",
     "output_type": "error",
     "traceback": [
      "\u001b[0;31m---------------------------------------------------------------------------\u001b[0m",
      "\u001b[0;31mAttributeError\u001b[0m                            Traceback (most recent call last)",
      "\u001b[0;32m<ipython-input-23-00e6c75da87f>\u001b[0m in \u001b[0;36m<module>\u001b[0;34m\u001b[0m\n\u001b[1;32m      1\u001b[0m \u001b[0msns\u001b[0m\u001b[0;34m.\u001b[0m\u001b[0mset\u001b[0m\u001b[0;34m(\u001b[0m\u001b[0mcontext\u001b[0m\u001b[0;34m=\u001b[0m\u001b[0;34m'paper'\u001b[0m\u001b[0;34m,\u001b[0m \u001b[0mstyle\u001b[0m\u001b[0;34m=\u001b[0m\u001b[0;34m'whitegrid'\u001b[0m\u001b[0;34m,\u001b[0m \u001b[0mcolor_codes\u001b[0m\u001b[0;34m=\u001b[0m\u001b[0;32mTrue\u001b[0m\u001b[0;34m,\u001b[0m \u001b[0mfont_scale\u001b[0m\u001b[0;34m=\u001b[0m\u001b[0;36m1.5\u001b[0m\u001b[0;34m)\u001b[0m\u001b[0;34m\u001b[0m\u001b[0m\n\u001b[1;32m      2\u001b[0m \u001b[0mfig\u001b[0m\u001b[0;34m,\u001b[0m \u001b[0max\u001b[0m \u001b[0;34m=\u001b[0m \u001b[0mplt\u001b[0m\u001b[0;34m.\u001b[0m\u001b[0msubplots\u001b[0m\u001b[0;34m(\u001b[0m\u001b[0mfigsize\u001b[0m\u001b[0;34m=\u001b[0m\u001b[0;34m(\u001b[0m\u001b[0;36m15\u001b[0m\u001b[0;34m,\u001b[0m\u001b[0;36m5\u001b[0m\u001b[0;34m)\u001b[0m\u001b[0;34m)\u001b[0m\u001b[0;34m\u001b[0m\u001b[0m\n\u001b[0;32m----> 3\u001b[0;31m \u001b[0max\u001b[0m \u001b[0;34m=\u001b[0m \u001b[0msns\u001b[0m\u001b[0;34m.\u001b[0m\u001b[0mbarploth\u001b[0m\u001b[0;34m(\u001b[0m\u001b[0mhue\u001b[0m\u001b[0;34m=\u001b[0m\u001b[0;34m'Rated by'\u001b[0m\u001b[0;34m,\u001b[0m \u001b[0my\u001b[0m\u001b[0;34m=\u001b[0m\u001b[0;34m'Quality'\u001b[0m\u001b[0;34m,\u001b[0m \u001b[0mx\u001b[0m\u001b[0;34m=\u001b[0m\u001b[0;34m'Outlet'\u001b[0m\u001b[0;34m,\u001b[0m \u001b[0mdata\u001b[0m\u001b[0;34m=\u001b[0m\u001b[0mdf\u001b[0m\u001b[0;34m,\u001b[0m \u001b[0max\u001b[0m\u001b[0;34m=\u001b[0m\u001b[0max\u001b[0m\u001b[0;34m)\u001b[0m\u001b[0;34m\u001b[0m\u001b[0m\n\u001b[0m\u001b[1;32m      4\u001b[0m \u001b[0max\u001b[0m\u001b[0;34m.\u001b[0m\u001b[0mset_yticks\u001b[0m\u001b[0;34m(\u001b[0m\u001b[0mticks\u001b[0m\u001b[0;34m=\u001b[0m\u001b[0;34m[\u001b[0m\u001b[0;36m0\u001b[0m\u001b[0;34m,\u001b[0m \u001b[0;36m1\u001b[0m\u001b[0;34m,\u001b[0m \u001b[0;36m2\u001b[0m\u001b[0;34m,\u001b[0m \u001b[0;36m3\u001b[0m\u001b[0;34m,\u001b[0m \u001b[0;36m4\u001b[0m\u001b[0;34m,\u001b[0m \u001b[0;36m4.8\u001b[0m\u001b[0;34m]\u001b[0m\u001b[0;34m)\u001b[0m\u001b[0;34m\u001b[0m\u001b[0m\n\u001b[1;32m      5\u001b[0m \u001b[0max\u001b[0m\u001b[0;34m.\u001b[0m\u001b[0mset_yticklabels\u001b[0m\u001b[0;34m(\u001b[0m\u001b[0;34m[\u001b[0m\u001b[0;34m'Very Low'\u001b[0m\u001b[0;34m,\u001b[0m \u001b[0;34m'Low'\u001b[0m\u001b[0;34m,\u001b[0m \u001b[0;34m'Borderline'\u001b[0m\u001b[0;34m,\u001b[0m \u001b[0;34m'High'\u001b[0m\u001b[0;34m,\u001b[0m \u001b[0;34m'Very High'\u001b[0m\u001b[0;34m,\u001b[0m \u001b[0;34m''\u001b[0m\u001b[0;34m]\u001b[0m\u001b[0;34m)\u001b[0m\u001b[0;34m\u001b[0m\u001b[0m\n",
      "\u001b[0;31mAttributeError\u001b[0m: module 'seaborn' has no attribute 'barploth'"
     ]
    },
    {
     "data": {
      "image/png": "[encoded data removed]",
      "text/plain": [
       "<Figure size 1080x360 with 1 Axes>"
      ]
     },
     "metadata": {},
     "output_type": "display_data"
    }
   ],
   "source": [
    "sns.set(context='paper', style='whitegrid', color_codes=True, font_scale=1.5)\n",
    "fig, ax = plt.subplots(figsize=(15,5))\n",
    "ax = sns.barploth(hue='Rated by', y='Quality', x='Outlet', data=df, ax=ax)\n",
    "ax.set_yticks(ticks=[0, 1, 2, 3, 4, 4.8])\n",
    "ax.set_yticklabels(['Very Low', 'Low', 'Borderline', 'High', 'Very High', ''])\n",
    "plt.xticks(rotation=90)\n",
    "plt.legend(loc='upper center', ncol=4)\n",
    "fig.savefig(figures+'a-t-c.pdf', bbox_inches='tight')"
   ]
  },
  {
   "cell_type": "code",
   "execution_count": null,
   "metadata": {},
   "outputs": [],
   "source": []
  },
  {
   "cell_type": "code",
   "execution_count": null,
   "metadata": {},
   "outputs": [],
   "source": []
  }
 ],
 "metadata": {
  "kernelspec": {
   "display_name": "Python 3",
   "language": "python",
   "name": "python3"
  },
  "language_info": {
   "codemirror_mode": {
    "name": "ipython",
    "version": 3
   },
   "file_extension": ".py",
   "mimetype": "text/x-python",
   "name": "python",
   "nbconvert_exporter": "python",
   "pygments_lexer": "ipython3",
   "version": "3.6.6"
  },
  "toc": {
   "base_numbering": 1,
   "nav_menu": {},
   "number_sections": true,
   "sideBar": true,
   "skip_h1_title": false,
   "title_cell": "Table of Contents",
   "title_sidebar": "Contents",
   "toc_cell": false,
   "toc_position": {},
   "toc_section_display": true,
   "toc_window_display": false
  }
 },
 "nbformat": 4,
 "nbformat_minor": 2
}
