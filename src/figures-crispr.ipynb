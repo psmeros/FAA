{
 "cells": [
  {
   "cell_type": "code",
   "execution_count": null,
   "metadata": {},
   "outputs": [],
   "source": [
    "%matplotlib inline\n",
    "import numpy as np\n",
    "import pandas as pd\n",
    "import matplotlib.pyplot as plt\n",
    "import matplotlib.ticker\n",
    "import seaborn as sns\n",
    "%load_ext autoreload\n",
    "%autoreload 2\n",
    "\n",
    "from settings import *\n",
    "from url_helpers import analyze_url\n",
    "from sklearn.metrics import cohen_kappa_score, mean_squared_error\n",
    "from math import sqrt"
   ]
  },
  {
   "cell_type": "code",
   "execution_count": null,
   "metadata": {},
   "outputs": [],
   "source": [
    "figures = conf['aux_dir']+'figure-eight/'\n",
    "trust_thr = .4"
   ]
  },
  {
   "cell_type": "code",
   "execution_count": null,
   "metadata": {},
   "outputs": [],
   "source": [
    "df = pd.read_csv(figures+'crispr-crowd.csv').rename(columns={'how_do_you_rate_the_scientific_quality_of_this_article': 'crowd (w/o indicators)'})\n",
    "df = df[df._trust > trust_thr][['article', 'crowd (w/o indicators)']]\n",
    "df.article = df.article.apply(lambda x: x.replace('https://', 'http://'))\n",
    "print(df.shape)\n",
    "df_crowd = df.groupby('article').mean()"
   ]
  },
  {
   "cell_type": "code",
   "execution_count": null,
   "metadata": {},
   "outputs": [],
   "source": [
    "df = pd.read_csv(figures+'crispr-crowd-ind.csv').rename(columns={'how_do_you_rate_the_scientific_quality_of_this_article': 'crowd (w/ indicators)'})\n",
    "df = df[df._trust > trust_thr][['article', 'crowd (w/ indicators)']]\n",
    "df.article = df.article.apply(lambda x: x.replace('https://', 'http://'))\n",
    "print(df.shape)\n",
    "df_crowd_ind = df.groupby('article').mean()"
   ]
  },
  {
   "cell_type": "code",
   "execution_count": null,
   "metadata": {},
   "outputs": [],
   "source": [
    "df1 = pd.read_csv(figures+'crispr-Dimitra.csv').rename(columns={'how_do_you_rate_the_scientific_quality_of_this_article': 'expert1'}).sort_values(by='article')\n",
    "df2 = pd.read_csv(figures+'crispr-Jose.csv').rename(columns={'how_do_you_rate_the_scientific_quality_of_this_article': 'expert2'}).sort_values(by='article').drop('article', axis=1)\n",
    "df_exp = pd.concat([df1,df2], axis=1)[['article', 'expert1', 'expert2']]\n",
    "df_exp.article = df_exp.article.apply(lambda x: x.replace('https://', 'http://'))\n",
    "df_exp['diff'] = abs(df_exp['expert1'] - df_exp['expert2'])\n",
    "df_exp['expert'] = (df_exp['expert1'] + df_exp['expert2'])/2\n",
    "df_exp = df_exp.set_index('article')\n",
    "print(cohen_kappa_score(df_exp['expert1'], df_exp['expert2']))\n"
   ]
  },
  {
   "cell_type": "code",
   "execution_count": null,
   "metadata": {},
   "outputs": [],
   "source": [
    "df_sci = pd.read_csv(cache_dir + 'scilens_crispr.tsv', sep='\\t')\n",
    "df_sci = df_sci.set_index('article')"
   ]
  },
  {
   "cell_type": "code",
   "execution_count": null,
   "metadata": {},
   "outputs": [],
   "source": [
    "df = df_crowd.join(df_exp).join(df_crowd_ind).join(df_sci).reset_index()"
   ]
  },
  {
   "cell_type": "code",
   "execution_count": null,
   "metadata": {},
   "outputs": [],
   "source": [
    "print(sqrt(mean_squared_error(df[df['diff']==0]['crowd (w/o indicators)'], df[df['diff']==0]['expert'])))\n",
    "print(sqrt(mean_squared_error(df[df['diff']==0]['crowd (w/ indicators)'], df[df['diff']==0]['expert'])))\n",
    "print(sqrt(mean_squared_error(df[df['diff']==0]['scilens'], df[df['diff']==0]['expert'])))\n",
    "print()\n",
    "print(sqrt(mean_squared_error(df[df['diff']==1]['crowd (w/o indicators)'], df[df['diff']==1]['expert'])))\n",
    "print(sqrt(mean_squared_error(df[df['diff']==1]['crowd (w/ indicators)'], df[df['diff']==1]['expert'])))\n",
    "print(sqrt(mean_squared_error(df[df['diff']==1]['scilens'], df[df['diff']==1]['expert'])))\n",
    "print()\n",
    "print(sqrt(mean_squared_error(df[df['diff']>1]['crowd (w/o indicators)'], df[df['diff']>1]['expert'])))\n",
    "print(sqrt(mean_squared_error(df[df['diff']>1]['crowd (w/ indicators)'], df[df['diff']>1]['expert'])))\n",
    "print(sqrt(mean_squared_error(df[df['diff']>1]['scilens'], df[df['diff']>1]['expert'])))\n",
    "print()\n",
    "print(sqrt(mean_squared_error(df['crowd (w/o indicators)'], df['expert'])))\n",
    "print(sqrt(mean_squared_error(df['crowd (w/ indicators)'], df['expert'])))\n",
    "print(sqrt(mean_squared_error(df['scilens'], df['expert'])))"
   ]
  },
  {
   "cell_type": "code",
   "execution_count": null,
   "metadata": {},
   "outputs": [],
   "source": [
    "df = df.sort_values(by=['expert', 'diff'])\n",
    "l = df['article'].apply(lambda x: analyze_url(x)[0]).tolist()\n",
    "df['article'] = [v + ' (' + str(l[:i].count(v) + 1) + ')' if l.count(v) > 1 else v for i, v in enumerate(l)]\n",
    "df['article'] = df.apply(lambda x: x['article']+'*' if x['diff']==0 else x['article']+'**' if x['diff']==1 else x['article']+'***', axis = 1)\n",
    "df = df[['article', 'crowd (w/o indicators)', 'crowd (w/ indicators)', 'expert', 'scilens']]\n",
    "df = pd.melt(df, id_vars=['article'], var_name='Rated by', value_name='Quality').rename(columns={'article': 'Outlet'})\n",
    "df['Quality'] = df['Quality'] + 2"
   ]
  },
  {
   "cell_type": "code",
   "execution_count": null,
   "metadata": {},
   "outputs": [],
   "source": [
    "df = df.sort_values(by=['Rated by', 'Quality'], ascending=[True,True])\n",
    "df = pd.concat([df[(df['Rated by'] == 'expert')],df[~(df['Rated by'] == 'expert')]])"
   ]
  },
  {
   "cell_type": "code",
   "execution_count": null,
   "metadata": {},
   "outputs": [],
   "source": [
    "sns.set(context='paper', style='whitegrid', color_codes=True, font_scale=1.5)\n",
    "fig, ax = plt.subplots(figsize=(15,5))\n",
    "ax = sns.barplot(hue='Rated by', y='Quality', x='Outlet', data=df, ax=ax)\n",
    "ax.set_yticks(ticks=[0, 1, 2, 3, 4, 4.8])\n",
    "ax.set_yticklabels(['Very Low', 'Low', 'Borderline', 'High', 'Very High', ''])\n",
    "plt.xticks(rotation=90)\n",
    "plt.legend(loc='upper center', ncol=4)\n",
    "fig.savefig(figures+'crispr.pdf', bbox_inches='tight')"
   ]
  },
  {
   "cell_type": "code",
   "execution_count": null,
   "metadata": {},
   "outputs": [],
   "source": []
  },
  {
   "cell_type": "code",
   "execution_count": null,
   "metadata": {},
   "outputs": [],
   "source": []
  }
 ],
 "metadata": {
  "kernelspec": {
   "display_name": "Python 3",
   "language": "python",
   "name": "python3"
  },
  "language_info": {
   "codemirror_mode": {
    "name": "ipython",
    "version": 3
   },
   "file_extension": ".py",
   "mimetype": "text/x-python",
   "name": "python",
   "nbconvert_exporter": "python",
   "pygments_lexer": "ipython3",
   "version": "3.6.6"
  },
  "toc": {
   "base_numbering": 1,
   "nav_menu": {},
   "number_sections": true,
   "sideBar": true,
   "skip_h1_title": false,
   "title_cell": "Table of Contents",
   "title_sidebar": "Contents",
   "toc_cell": false,
   "toc_position": {},
   "toc_section_display": true,
   "toc_window_display": false
  }
 },
 "nbformat": 4,
 "nbformat_minor": 2
}
